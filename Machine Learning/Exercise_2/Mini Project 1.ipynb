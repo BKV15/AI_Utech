{
 "cells": [
  {
   "cell_type": "markdown",
   "metadata": {},
   "source": [
    "<div class=\"alert alert-block alert-success\">\n",
    "    <h1 align=\"center\">Machine Learning in Python</h1>\n",
    "    <h3 align=\"center\">Mini Project1</h3>\n",
    "</div>"
   ]
  },
  {
   "cell_type": "markdown",
   "metadata": {},
   "source": [
    "<img src = \"https://www.cyclonis.com/images/2020/03/googleplay.jpg\" width=50%>"
   ]
  },
  {
   "cell_type": "markdown",
   "metadata": {},
   "source": [
    "<div class=\"alert alert-block alert-info\">\n",
    "    <h2 align=\"center\">Importing Libraries</h2>\n",
    "</div>"
   ]
  },
  {
   "cell_type": "code",
   "execution_count": 1,
   "metadata": {},
   "outputs": [],
   "source": [
    "import pandas as pd\n",
    "import seaborn as sns"
   ]
  },
  {
   "cell_type": "markdown",
   "metadata": {},
   "source": [
    "<div class=\"alert alert-block alert-info\">\n",
    "    <h2 align=\"center\">Load and prepare data</h2>\n",
    "</div>"
   ]
  },
  {
   "cell_type": "code",
   "execution_count": 2,
   "metadata": {},
   "outputs": [],
   "source": [
    "#### Reading googleplaystore.csv file\n",
    "df = pd.read_csv('googleplaystore.csv')"
   ]
  },
  {
   "cell_type": "code",
   "execution_count": 3,
   "metadata": {},
   "outputs": [
    {
     "data": {
      "text/plain": [
       "(10841, 13)"
      ]
     },
     "execution_count": 3,
     "metadata": {},
     "output_type": "execute_result"
    }
   ],
   "source": [
    "#### Checking the shape of the data. It has 13 columns and 10841 rows\n",
    "df.shape"
   ]
  },
  {
   "cell_type": "code",
   "execution_count": 4,
   "metadata": {},
   "outputs": [
    {
     "data": {
      "text/html": [
       "<div>\n",
       "<style scoped>\n",
       "    .dataframe tbody tr th:only-of-type {\n",
       "        vertical-align: middle;\n",
       "    }\n",
       "\n",
       "    .dataframe tbody tr th {\n",
       "        vertical-align: top;\n",
       "    }\n",
       "\n",
       "    .dataframe thead th {\n",
       "        text-align: right;\n",
       "    }\n",
       "</style>\n",
       "<table border=\"1\" class=\"dataframe\">\n",
       "  <thead>\n",
       "    <tr style=\"text-align: right;\">\n",
       "      <th></th>\n",
       "      <th>App</th>\n",
       "      <th>Category</th>\n",
       "      <th>Rating</th>\n",
       "      <th>Reviews</th>\n",
       "      <th>Size</th>\n",
       "      <th>Installs</th>\n",
       "      <th>Type</th>\n",
       "      <th>Price</th>\n",
       "      <th>Content Rating</th>\n",
       "      <th>Genres</th>\n",
       "      <th>Last Updated</th>\n",
       "      <th>Current Ver</th>\n",
       "      <th>Android Ver</th>\n",
       "    </tr>\n",
       "  </thead>\n",
       "  <tbody>\n",
       "    <tr>\n",
       "      <th>10608</th>\n",
       "      <td>Florida map</td>\n",
       "      <td>TRAVEL_AND_LOCAL</td>\n",
       "      <td>NaN</td>\n",
       "      <td>11</td>\n",
       "      <td>3.4M</td>\n",
       "      <td>5,000+</td>\n",
       "      <td>Free</td>\n",
       "      <td>0</td>\n",
       "      <td>Everyone</td>\n",
       "      <td>Travel &amp; Local</td>\n",
       "      <td>May 15, 2016</td>\n",
       "      <td>0.0.7</td>\n",
       "      <td>4.0 and up</td>\n",
       "    </tr>\n",
       "    <tr>\n",
       "      <th>2073</th>\n",
       "      <td>Super School: Educational Kids Games &amp; Rhymes</td>\n",
       "      <td>FAMILY</td>\n",
       "      <td>4.5</td>\n",
       "      <td>1791</td>\n",
       "      <td>56M</td>\n",
       "      <td>500,000+</td>\n",
       "      <td>Free</td>\n",
       "      <td>0</td>\n",
       "      <td>Everyone</td>\n",
       "      <td>Education;Education</td>\n",
       "      <td>June 2, 2018</td>\n",
       "      <td>5.3.11</td>\n",
       "      <td>5.0 and up</td>\n",
       "    </tr>\n",
       "    <tr>\n",
       "      <th>9965</th>\n",
       "      <td>EV Real Estate Search</td>\n",
       "      <td>LIFESTYLE</td>\n",
       "      <td>4.1</td>\n",
       "      <td>88</td>\n",
       "      <td>20M</td>\n",
       "      <td>5,000+</td>\n",
       "      <td>Free</td>\n",
       "      <td>0</td>\n",
       "      <td>Everyone</td>\n",
       "      <td>Lifestyle</td>\n",
       "      <td>July 13, 2018</td>\n",
       "      <td>5.600.49</td>\n",
       "      <td>4.0.3 and up</td>\n",
       "    </tr>\n",
       "    <tr>\n",
       "      <th>6457</th>\n",
       "      <td>Basket Manager 2018 Pro</td>\n",
       "      <td>SPORTS</td>\n",
       "      <td>3.7</td>\n",
       "      <td>84</td>\n",
       "      <td>6.3M</td>\n",
       "      <td>1,000+</td>\n",
       "      <td>Paid</td>\n",
       "      <td>$2.99</td>\n",
       "      <td>Everyone</td>\n",
       "      <td>Sports</td>\n",
       "      <td>April 17, 2018</td>\n",
       "      <td>3.7</td>\n",
       "      <td>4.4 and up</td>\n",
       "    </tr>\n",
       "    <tr>\n",
       "      <th>8992</th>\n",
       "      <td>DW Audio</td>\n",
       "      <td>FAMILY</td>\n",
       "      <td>4.9</td>\n",
       "      <td>38</td>\n",
       "      <td>5.0M</td>\n",
       "      <td>1,000+</td>\n",
       "      <td>Free</td>\n",
       "      <td>0</td>\n",
       "      <td>Everyone</td>\n",
       "      <td>Education</td>\n",
       "      <td>June 16, 2017</td>\n",
       "      <td>0.9.0</td>\n",
       "      <td>4.1 and up</td>\n",
       "    </tr>\n",
       "  </tbody>\n",
       "</table>\n",
       "</div>"
      ],
      "text/plain": [
       "                                                 App          Category  \\\n",
       "10608                                    Florida map  TRAVEL_AND_LOCAL   \n",
       "2073   Super School: Educational Kids Games & Rhymes            FAMILY   \n",
       "9965                           EV Real Estate Search         LIFESTYLE   \n",
       "6457                         Basket Manager 2018 Pro            SPORTS   \n",
       "8992                                        DW Audio            FAMILY   \n",
       "\n",
       "       Rating Reviews  Size  Installs  Type  Price Content Rating  \\\n",
       "10608     NaN      11  3.4M    5,000+  Free      0       Everyone   \n",
       "2073      4.5    1791   56M  500,000+  Free      0       Everyone   \n",
       "9965      4.1      88   20M    5,000+  Free      0       Everyone   \n",
       "6457      3.7      84  6.3M    1,000+  Paid  $2.99       Everyone   \n",
       "8992      4.9      38  5.0M    1,000+  Free      0       Everyone   \n",
       "\n",
       "                    Genres    Last Updated Current Ver   Android Ver  \n",
       "10608       Travel & Local    May 15, 2016       0.0.7    4.0 and up  \n",
       "2073   Education;Education    June 2, 2018      5.3.11    5.0 and up  \n",
       "9965             Lifestyle   July 13, 2018    5.600.49  4.0.3 and up  \n",
       "6457                Sports  April 17, 2018         3.7    4.4 and up  \n",
       "8992             Education   June 16, 2017       0.9.0    4.1 and up  "
      ]
     },
     "execution_count": 4,
     "metadata": {},
     "output_type": "execute_result"
    }
   ],
   "source": [
    "#### Printing 5 random rows of data\n",
    "df.sample(5)"
   ]
  },
  {
   "cell_type": "code",
   "execution_count": 5,
   "metadata": {},
   "outputs": [
    {
     "data": {
      "text/plain": [
       "Index(['App', 'Category', 'Rating', 'Reviews', 'Size', 'Installs', 'Type',\n",
       "       'Price', 'Content Rating', 'Genres', 'Last Updated', 'Current Ver',\n",
       "       'Android Ver'],\n",
       "      dtype='object')"
      ]
     },
     "execution_count": 5,
     "metadata": {},
     "output_type": "execute_result"
    }
   ],
   "source": [
    "#### Different columns present in data\n",
    "df.columns"
   ]
  },
  {
   "cell_type": "code",
   "execution_count": 6,
   "metadata": {},
   "outputs": [
    {
     "name": "stdout",
     "output_type": "stream",
     "text": [
      "<class 'pandas.core.frame.DataFrame'>\n",
      "RangeIndex: 10841 entries, 0 to 10840\n",
      "Data columns (total 13 columns):\n",
      " #   Column          Non-Null Count  Dtype  \n",
      "---  ------          --------------  -----  \n",
      " 0   App             10841 non-null  object \n",
      " 1   Category        10841 non-null  object \n",
      " 2   Rating          9367 non-null   float64\n",
      " 3   Reviews         10841 non-null  object \n",
      " 4   Size            10841 non-null  object \n",
      " 5   Installs        10841 non-null  object \n",
      " 6   Type            10840 non-null  object \n",
      " 7   Price           10841 non-null  object \n",
      " 8   Content Rating  10840 non-null  object \n",
      " 9   Genres          10841 non-null  object \n",
      " 10  Last Updated    10841 non-null  object \n",
      " 11  Current Ver     10833 non-null  object \n",
      " 12  Android Ver     10838 non-null  object \n",
      "dtypes: float64(1), object(12)\n",
      "memory usage: 1.1+ MB\n"
     ]
    }
   ],
   "source": [
    "#### Data has 13 columns and 10841 rows\n",
    "#### Columns Rating, Type, Content Rating, Current Ver and Android Ver have null data in them\n",
    "df.info()"
   ]
  },
  {
   "cell_type": "markdown",
   "metadata": {},
   "source": [
    "<div class=\"alert alert-block alert-info\">\n",
    "    <h3 align=\"center\">18 percents of App are in FAMILY Category and 10 percent are in GAME</h3>\n",
    "</div>"
   ]
  },
  {
   "cell_type": "code",
   "execution_count": 7,
   "metadata": {
    "scrolled": true
   },
   "outputs": [
    {
     "data": {
      "text/plain": [
       "FAMILY                 18.190204\n",
       "GAME                   10.552532\n",
       "TOOLS                   7.776035\n",
       "MEDICAL                 4.270824\n",
       "BUSINESS                4.243151\n",
       "PRODUCTIVITY            3.911078\n",
       "PERSONALIZATION         3.615903\n",
       "COMMUNICATION           3.569781\n",
       "SPORTS                  3.542109\n",
       "LIFESTYLE               3.523660\n",
       "FINANCE                 3.376072\n",
       "HEALTH_AND_FITNESS      3.145466\n",
       "PHOTOGRAPHY             3.090121\n",
       "SOCIAL                  2.721151\n",
       "NEWS_AND_MAGAZINES      2.610460\n",
       "SHOPPING                2.398303\n",
       "TRAVEL_AND_LOCAL        2.379854\n",
       "DATING                  2.158472\n",
       "BOOKS_AND_REFERENCE     2.130800\n",
       "VIDEO_PLAYERS           1.614242\n",
       "EDUCATION               1.438982\n",
       "ENTERTAINMENT           1.374412\n",
       "MAPS_AND_NAVIGATION     1.263721\n",
       "FOOD_AND_DRINK          1.171479\n",
       "HOUSE_AND_HOME          0.811733\n",
       "LIBRARIES_AND_DEMO      0.784061\n",
       "AUTO_AND_VEHICLES       0.784061\n",
       "WEATHER                 0.756388\n",
       "ART_AND_DESIGN          0.599576\n",
       "EVENTS                  0.590351\n",
       "COMICS                  0.553454\n",
       "PARENTING               0.553454\n",
       "BEAUTY                  0.488885\n",
       "1.9                     0.009224\n",
       "Name: Category, dtype: float64"
      ]
     },
     "execution_count": 7,
     "metadata": {},
     "output_type": "execute_result"
    }
   ],
   "source": [
    "df['Category'].value_counts(normalize=True) * 100"
   ]
  },
  {
   "cell_type": "markdown",
   "metadata": {},
   "source": [
    "<div class=\"alert alert-block alert-info\">\n",
    "    <h3 align=\"center\">Rating</h3>\n",
    "    <h3 align=\"center\">Changing 19.0 value and all null values to 0</h3>\n",
    "</div>"
   ]
  },
  {
   "cell_type": "code",
   "execution_count": 8,
   "metadata": {},
   "outputs": [
    {
     "data": {
      "text/plain": [
       "0.0    1475\n",
       "4.4    1109\n",
       "4.3    1076\n",
       "4.5    1038\n",
       "4.2     952\n",
       "4.6     823\n",
       "4.1     708\n",
       "4.0     568\n",
       "4.7     499\n",
       "3.9     386\n",
       "3.8     303\n",
       "5.0     274\n",
       "3.7     239\n",
       "4.8     234\n",
       "3.6     174\n",
       "3.5     163\n",
       "3.4     128\n",
       "3.3     102\n",
       "4.9      87\n",
       "3.0      83\n",
       "3.1      69\n",
       "3.2      64\n",
       "2.9      45\n",
       "2.8      42\n",
       "2.6      25\n",
       "2.7      25\n",
       "2.5      21\n",
       "2.3      20\n",
       "2.4      19\n",
       "1.0      16\n",
       "2.2      14\n",
       "1.9      13\n",
       "2.0      12\n",
       "1.7       8\n",
       "1.8       8\n",
       "2.1       8\n",
       "1.6       4\n",
       "1.5       3\n",
       "1.4       3\n",
       "1.2       1\n",
       "Name: Rating, dtype: int64"
      ]
     },
     "execution_count": 8,
     "metadata": {},
     "output_type": "execute_result"
    }
   ],
   "source": [
    "df.loc[df.Rating.isnull(),'Rating'] = 0\n",
    "df.loc[df.Rating == 19.0,'Rating'] = 0\n",
    "df.Rating.value_counts()"
   ]
  },
  {
   "cell_type": "markdown",
   "metadata": {},
   "source": [
    "<div class=\"alert alert-block alert-info\">\n",
    "    <h3 align=\"center\">Reviews</h3>\n",
    "    <h3 align=\"center\">Changing Reviews columns to int64</h3>\n",
    "</div>"
   ]
  },
  {
   "cell_type": "code",
   "execution_count": 9,
   "metadata": {
    "scrolled": true
   },
   "outputs": [
    {
     "name": "stderr",
     "output_type": "stream",
     "text": [
      "<ipython-input-9-4e941b14560d>:1: FutureWarning: The default value of regex will change from True to False in a future version.\n",
      "  df.loc[df.Reviews.str.contains('.0M'),'Reviews'] = df.loc[df.Reviews.str.contains('.0M'),'Reviews'].str.replace('.0M','')\n"
     ]
    },
    {
     "data": {
      "text/plain": [
       "0           596\n",
       "1           272\n",
       "2           214\n",
       "3           176\n",
       "4           137\n",
       "           ... \n",
       "4027          1\n",
       "137144        1\n",
       "12215         1\n",
       "17014705      1\n",
       "315390        1\n",
       "Name: Reviews, Length: 6001, dtype: int64"
      ]
     },
     "execution_count": 9,
     "metadata": {},
     "output_type": "execute_result"
    }
   ],
   "source": [
    "df.loc[df.Reviews.str.contains('.0M'),'Reviews'] = df.loc[df.Reviews.str.contains('.0M'),'Reviews'].str.replace('.0M','')\n",
    "df = df.astype({'Reviews' : 'int64'})\n",
    "df.Reviews.value_counts()"
   ]
  },
  {
   "cell_type": "markdown",
   "metadata": {},
   "source": [
    "<div class=\"alert alert-block alert-info\">\n",
    "    <h3 align=\"center\">Installs</h3>\n",
    "    <h3 align=\"center\">Free has no meaning so changing it to 0</h3>\n",
    "    <h3 align=\"center\">changing data type to int64 for statistic purposes</h3>\n",
    "</div>"
   ]
  },
  {
   "cell_type": "code",
   "execution_count": 11,
   "metadata": {},
   "outputs": [
    {
     "name": "stderr",
     "output_type": "stream",
     "text": [
      "<ipython-input-11-cc8dcc13c637>:3: FutureWarning: The default value of regex will change from True to False in a future version. In addition, single character regular expressions will*not* be treated as literal strings when regex=True.\n",
      "  df.loc[:,'Installs'] = df.loc[:,'Installs'].str.replace('+','')\n"
     ]
    },
    {
     "data": {
      "text/plain": [
       "1000000       1579\n",
       "10000000      1252\n",
       "100000        1169\n",
       "10000         1054\n",
       "1000           907\n",
       "5000000        752\n",
       "100            719\n",
       "500000         539\n",
       "50000          479\n",
       "5000           477\n",
       "100000000      409\n",
       "10             386\n",
       "500            330\n",
       "50000000       289\n",
       "50             205\n",
       "5               82\n",
       "500000000       72\n",
       "1               67\n",
       "1000000000      58\n",
       "0               16\n",
       "Name: Installs, dtype: int64"
      ]
     },
     "execution_count": 11,
     "metadata": {},
     "output_type": "execute_result"
    }
   ],
   "source": [
    "df.loc[df.Installs == 'Free','Installs'] = 0\n",
    "df.loc[df.Installs.isnull(),'Installs'] = '0'\n",
    "df.loc[:,'Installs'] = df.loc[:,'Installs'].str.replace('+','')\n",
    "df.loc[:,'Installs'] = df.loc[:,'Installs'].str.replace(',','')\n",
    "df = df.astype({'Installs' : 'int64'})\n",
    "df['Installs'].value_counts()\n"
   ]
  },
  {
   "cell_type": "markdown",
   "metadata": {},
   "source": [
    "<div class=\"alert alert-block alert-info\">\n",
    "    <h3 align=\"center\">Type</h3>\n",
    "    <h3 align=\"center\">93 percent of Apps were free</h3>\n",
    "    <h3 align=\"center\">0 has no meaning so changing it to free</h3>\n",
    "</div>"
   ]
  },
  {
   "cell_type": "code",
   "execution_count": 12,
   "metadata": {},
   "outputs": [
    {
     "data": {
      "text/plain": [
       "Free    92.620607\n",
       "Paid     7.379393\n",
       "Name: Type, dtype: float64"
      ]
     },
     "execution_count": 12,
     "metadata": {},
     "output_type": "execute_result"
    }
   ],
   "source": [
    "df.loc[df.Type == '0','Type'] = 'Free'\n",
    "df.loc[df.Type.isnull(),'Type'] = 'Free'\n",
    "df['Type'].value_counts(normalize=True) * 100"
   ]
  },
  {
   "cell_type": "markdown",
   "metadata": {},
   "source": [
    "<div class=\"alert alert-block alert-info\">\n",
    "    <h3 align=\"center\">Price</h3>\n",
    "    <h3 align=\"center\">Changing price columns to float64 for statistic purposes</h3>\n",
    "    <h3 align=\"center\">Changing Everyone value to 0</h3>\n",
    "</div>"
   ]
  },
  {
   "cell_type": "code",
   "execution_count": 13,
   "metadata": {},
   "outputs": [
    {
     "name": "stderr",
     "output_type": "stream",
     "text": [
      "<ipython-input-13-59a2bab1a9b7>:1: FutureWarning: The default value of regex will change from True to False in a future version. In addition, single character regular expressions will*not* be treated as literal strings when regex=True.\n",
      "  df.loc[:,'Price'] = df.loc[:,'Price'].str.replace('$','')\n"
     ]
    },
    {
     "data": {
      "text/plain": [
       "array([  0.  ,   4.99,   3.99,   6.99,   1.49,   2.99,   7.99,   5.99,\n",
       "         3.49,   1.99,   9.99,   7.49,   0.99,   9.  ,   5.49,  10.  ,\n",
       "        24.99,  11.99,  79.99,  16.99,  14.99,   1.  ,  29.99,  12.99,\n",
       "         2.49,  10.99,   1.5 ,  19.99,  15.99,  33.99,  74.99,  39.99,\n",
       "         3.95,   4.49,   1.7 ,   8.99,   2.  ,   3.88,  25.99, 399.99,\n",
       "        17.99, 400.  ,   3.02,   1.76,   4.84,   4.77,   1.61,   2.5 ,\n",
       "         1.59,   6.49,   1.29,   5.  ,  13.99, 299.99, 379.99,  37.99,\n",
       "        18.99, 389.99,  19.9 ,   8.49,   1.75,  14.  ,   4.85,  46.99,\n",
       "       109.99, 154.99,   3.08,   2.59,   4.8 ,   1.96,  19.4 ,   3.9 ,\n",
       "         4.59,  15.46,   3.04,   4.29,   2.6 ,   3.28,   4.6 ,  28.99,\n",
       "         2.95,   2.9 ,   1.97, 200.  ,  89.99,   2.56,  30.99,   3.61,\n",
       "       394.99,   1.26,   1.2 ,   1.04])"
      ]
     },
     "execution_count": 13,
     "metadata": {},
     "output_type": "execute_result"
    }
   ],
   "source": [
    "df.loc[:,'Price'] = df.loc[:,'Price'].str.replace('$','')\n",
    "df.loc[df.Price == 'Everyone' , 'Price'] = '0'\n",
    "df = df.astype({'Price' : 'float64'})\n",
    "df.Price.unique()"
   ]
  },
  {
   "cell_type": "markdown",
   "metadata": {},
   "source": [
    "<div class=\"alert alert-block alert-info\">\n",
    "    <h3 align=\"center\">Content Rating</h3>\n",
    "    <h3 align=\"center\">80 percent of Apps were for Everyone</h3>\n",
    "    <h3 align=\"center\">Change NaN values to Unrated</h3>\n",
    "</div>"
   ]
  },
  {
   "cell_type": "code",
   "execution_count": 14,
   "metadata": {},
   "outputs": [
    {
     "data": {
      "text/plain": [
       "Everyone           80.380039\n",
       "Teen               11.142883\n",
       "Mature 17+          4.602896\n",
       "Everyone 10+        3.818836\n",
       "Unrated             0.027673\n",
       "Adults only 18+     0.027673\n",
       "Name: Content Rating, dtype: float64"
      ]
     },
     "execution_count": 14,
     "metadata": {},
     "output_type": "execute_result"
    }
   ],
   "source": [
    "df.loc[df['Content Rating'].isnull(),'Content Rating'] = 'Unrated'\n",
    "df['Content Rating'].value_counts(normalize=True) * 100\n"
   ]
  },
  {
   "cell_type": "markdown",
   "metadata": {},
   "source": [
    "<div class=\"alert alert-block alert-info\">\n",
    "    <h2 align=\"center\">EDA (Use Pandas)</h2>\n",
    "</div>"
   ]
  },
  {
   "cell_type": "markdown",
   "metadata": {},
   "source": [
    "<div class=\"alert alert-block alert-info\">\n",
    "    <h3 align=\"center\">Anaylsis</h3>\n",
    "    <ul align=\"center\">\n",
    "        <li>Rating mean is close to it's max, meaning most of the Apps were reviewed favourably</li>\n",
    "        <li>There is no correlation between numbers of installs and reviews</li>\n",
    "        <li>Due to the huge number of free Apps, price data is skewed towards 0</li>\n",
    "    </ul>\n",
    "</div>"
   ]
  },
  {
   "cell_type": "code",
   "execution_count": 15,
   "metadata": {},
   "outputs": [
    {
     "data": {
      "text/html": [
       "<div>\n",
       "<style scoped>\n",
       "    .dataframe tbody tr th:only-of-type {\n",
       "        vertical-align: middle;\n",
       "    }\n",
       "\n",
       "    .dataframe tbody tr th {\n",
       "        vertical-align: top;\n",
       "    }\n",
       "\n",
       "    .dataframe thead th {\n",
       "        text-align: right;\n",
       "    }\n",
       "</style>\n",
       "<table border=\"1\" class=\"dataframe\">\n",
       "  <thead>\n",
       "    <tr style=\"text-align: right;\">\n",
       "      <th></th>\n",
       "      <th>Rating</th>\n",
       "      <th>Reviews</th>\n",
       "      <th>Installs</th>\n",
       "      <th>Price</th>\n",
       "    </tr>\n",
       "  </thead>\n",
       "  <tbody>\n",
       "    <tr>\n",
       "      <th>count</th>\n",
       "      <td>10841.000000</td>\n",
       "      <td>1.084100e+04</td>\n",
       "      <td>1.084100e+04</td>\n",
       "      <td>10841.000000</td>\n",
       "    </tr>\n",
       "    <tr>\n",
       "      <th>mean</th>\n",
       "      <td>3.621437</td>\n",
       "      <td>4.441119e+05</td>\n",
       "      <td>1.546291e+07</td>\n",
       "      <td>1.027273</td>\n",
       "    </tr>\n",
       "    <tr>\n",
       "      <th>std</th>\n",
       "      <td>1.514893</td>\n",
       "      <td>2.927629e+06</td>\n",
       "      <td>8.502557e+07</td>\n",
       "      <td>15.948971</td>\n",
       "    </tr>\n",
       "    <tr>\n",
       "      <th>min</th>\n",
       "      <td>0.000000</td>\n",
       "      <td>0.000000e+00</td>\n",
       "      <td>0.000000e+00</td>\n",
       "      <td>0.000000</td>\n",
       "    </tr>\n",
       "    <tr>\n",
       "      <th>25%</th>\n",
       "      <td>3.700000</td>\n",
       "      <td>3.800000e+01</td>\n",
       "      <td>1.000000e+03</td>\n",
       "      <td>0.000000</td>\n",
       "    </tr>\n",
       "    <tr>\n",
       "      <th>50%</th>\n",
       "      <td>4.200000</td>\n",
       "      <td>2.094000e+03</td>\n",
       "      <td>1.000000e+05</td>\n",
       "      <td>0.000000</td>\n",
       "    </tr>\n",
       "    <tr>\n",
       "      <th>75%</th>\n",
       "      <td>4.500000</td>\n",
       "      <td>5.476800e+04</td>\n",
       "      <td>5.000000e+06</td>\n",
       "      <td>0.000000</td>\n",
       "    </tr>\n",
       "    <tr>\n",
       "      <th>max</th>\n",
       "      <td>5.000000</td>\n",
       "      <td>7.815831e+07</td>\n",
       "      <td>1.000000e+09</td>\n",
       "      <td>400.000000</td>\n",
       "    </tr>\n",
       "  </tbody>\n",
       "</table>\n",
       "</div>"
      ],
      "text/plain": [
       "             Rating       Reviews      Installs         Price\n",
       "count  10841.000000  1.084100e+04  1.084100e+04  10841.000000\n",
       "mean       3.621437  4.441119e+05  1.546291e+07      1.027273\n",
       "std        1.514893  2.927629e+06  8.502557e+07     15.948971\n",
       "min        0.000000  0.000000e+00  0.000000e+00      0.000000\n",
       "25%        3.700000  3.800000e+01  1.000000e+03      0.000000\n",
       "50%        4.200000  2.094000e+03  1.000000e+05      0.000000\n",
       "75%        4.500000  5.476800e+04  5.000000e+06      0.000000\n",
       "max        5.000000  7.815831e+07  1.000000e+09    400.000000"
      ]
     },
     "execution_count": 15,
     "metadata": {},
     "output_type": "execute_result"
    }
   ],
   "source": [
    "df.describe()"
   ]
  },
  {
   "cell_type": "markdown",
   "metadata": {},
   "source": [
    "<div class=\"alert alert-block alert-info\">\n",
    "    <h3 align=\"center\">Anaylsis</h3>\n",
    "    <ul align=\"center\">\n",
    "        <li>Free Apps are the favoured form of relesing</li>\n",
    "        <li>More than 90 percent of Apps in every content rating were free</li>\n",
    "    </ul>\n",
    "</div>"
   ]
  },
  {
   "cell_type": "code",
   "execution_count": 16,
   "metadata": {},
   "outputs": [
    {
     "data": {
      "text/html": [
       "<div>\n",
       "<style scoped>\n",
       "    .dataframe tbody tr th:only-of-type {\n",
       "        vertical-align: middle;\n",
       "    }\n",
       "\n",
       "    .dataframe tbody tr th {\n",
       "        vertical-align: top;\n",
       "    }\n",
       "\n",
       "    .dataframe thead th {\n",
       "        text-align: right;\n",
       "    }\n",
       "</style>\n",
       "<table border=\"1\" class=\"dataframe\">\n",
       "  <thead>\n",
       "    <tr style=\"text-align: right;\">\n",
       "      <th>Content Rating</th>\n",
       "      <th>Adults only 18+</th>\n",
       "      <th>Everyone</th>\n",
       "      <th>Everyone 10+</th>\n",
       "      <th>Mature 17+</th>\n",
       "      <th>Teen</th>\n",
       "      <th>Unrated</th>\n",
       "    </tr>\n",
       "    <tr>\n",
       "      <th>Type</th>\n",
       "      <th></th>\n",
       "      <th></th>\n",
       "      <th></th>\n",
       "      <th></th>\n",
       "      <th></th>\n",
       "      <th></th>\n",
       "    </tr>\n",
       "  </thead>\n",
       "  <tbody>\n",
       "    <tr>\n",
       "      <th>Free</th>\n",
       "      <td>1.0</td>\n",
       "      <td>0.920243</td>\n",
       "      <td>0.92029</td>\n",
       "      <td>0.95992</td>\n",
       "      <td>0.956954</td>\n",
       "      <td>1.0</td>\n",
       "    </tr>\n",
       "    <tr>\n",
       "      <th>Paid</th>\n",
       "      <td>0.0</td>\n",
       "      <td>0.079757</td>\n",
       "      <td>0.07971</td>\n",
       "      <td>0.04008</td>\n",
       "      <td>0.043046</td>\n",
       "      <td>0.0</td>\n",
       "    </tr>\n",
       "  </tbody>\n",
       "</table>\n",
       "</div>"
      ],
      "text/plain": [
       "Content Rating  Adults only 18+  Everyone  Everyone 10+  Mature 17+      Teen  \\\n",
       "Type                                                                            \n",
       "Free                        1.0  0.920243       0.92029     0.95992  0.956954   \n",
       "Paid                        0.0  0.079757       0.07971     0.04008  0.043046   \n",
       "\n",
       "Content Rating  Unrated  \n",
       "Type                     \n",
       "Free                1.0  \n",
       "Paid                0.0  "
      ]
     },
     "execution_count": 16,
     "metadata": {},
     "output_type": "execute_result"
    }
   ],
   "source": [
    "pd.crosstab(df.Type,df['Content Rating'],normalize='columns')"
   ]
  },
  {
   "cell_type": "markdown",
   "metadata": {},
   "source": [
    "<div class=\"alert alert-block alert-info\">\n",
    "    <h3 align=\"center\">Anaylsis</h3>\n",
    "    <ul align=\"center\">\n",
    "        <li>There is not much difference in ratings between free and paid apps</li>\n",
    "        <li>There are huge difference between numbers of reviews and installs in free and paid apps</li>\n",
    "    </ul>\n",
    "</div>"
   ]
  },
  {
   "cell_type": "code",
   "execution_count": 17,
   "metadata": {},
   "outputs": [
    {
     "data": {
      "text/html": [
       "<div>\n",
       "<style scoped>\n",
       "    .dataframe tbody tr th:only-of-type {\n",
       "        vertical-align: middle;\n",
       "    }\n",
       "\n",
       "    .dataframe tbody tr th {\n",
       "        vertical-align: top;\n",
       "    }\n",
       "\n",
       "    .dataframe thead th {\n",
       "        text-align: right;\n",
       "    }\n",
       "</style>\n",
       "<table border=\"1\" class=\"dataframe\">\n",
       "  <thead>\n",
       "    <tr style=\"text-align: right;\">\n",
       "      <th></th>\n",
       "      <th>Type</th>\n",
       "      <th>Rating</th>\n",
       "      <th>Reviews</th>\n",
       "      <th>Installs</th>\n",
       "      <th>Price</th>\n",
       "    </tr>\n",
       "  </thead>\n",
       "  <tbody>\n",
       "    <tr>\n",
       "      <th>0</th>\n",
       "      <td>Free</td>\n",
       "      <td>3.635046</td>\n",
       "      <td>478565.755004</td>\n",
       "      <td>1.668763e+07</td>\n",
       "      <td>0.000000</td>\n",
       "    </tr>\n",
       "    <tr>\n",
       "      <th>1</th>\n",
       "      <td>Paid</td>\n",
       "      <td>3.450625</td>\n",
       "      <td>11673.312500</td>\n",
       "      <td>9.119510e+04</td>\n",
       "      <td>13.920837</td>\n",
       "    </tr>\n",
       "  </tbody>\n",
       "</table>\n",
       "</div>"
      ],
      "text/plain": [
       "   Type    Rating        Reviews      Installs      Price\n",
       "0  Free  3.635046  478565.755004  1.668763e+07   0.000000\n",
       "1  Paid  3.450625   11673.312500  9.119510e+04  13.920837"
      ]
     },
     "execution_count": 17,
     "metadata": {},
     "output_type": "execute_result"
    }
   ],
   "source": [
    "df.groupby('Type').mean().reset_index()"
   ]
  },
  {
   "cell_type": "code",
   "execution_count": 18,
   "metadata": {},
   "outputs": [
    {
     "data": {
      "text/html": [
       "<div>\n",
       "<style scoped>\n",
       "    .dataframe tbody tr th:only-of-type {\n",
       "        vertical-align: middle;\n",
       "    }\n",
       "\n",
       "    .dataframe tbody tr th {\n",
       "        vertical-align: top;\n",
       "    }\n",
       "\n",
       "    .dataframe thead th {\n",
       "        text-align: right;\n",
       "    }\n",
       "</style>\n",
       "<table border=\"1\" class=\"dataframe\">\n",
       "  <thead>\n",
       "    <tr style=\"text-align: right;\">\n",
       "      <th></th>\n",
       "      <th>Content Rating</th>\n",
       "      <th>Rating</th>\n",
       "      <th>Reviews</th>\n",
       "      <th>Installs</th>\n",
       "      <th>Price</th>\n",
       "    </tr>\n",
       "  </thead>\n",
       "  <tbody>\n",
       "    <tr>\n",
       "      <th>0</th>\n",
       "      <td>Adults only 18+</td>\n",
       "      <td>4.300000</td>\n",
       "      <td>2.711600e+04</td>\n",
       "      <td>6.666667e+05</td>\n",
       "      <td>0.000000</td>\n",
       "    </tr>\n",
       "    <tr>\n",
       "      <th>1</th>\n",
       "      <td>Everyone</td>\n",
       "      <td>3.564712</td>\n",
       "      <td>3.215340e+05</td>\n",
       "      <td>1.310037e+07</td>\n",
       "      <td>1.171173</td>\n",
       "    </tr>\n",
       "    <tr>\n",
       "      <th>2</th>\n",
       "      <td>Everyone 10+</td>\n",
       "      <td>4.082367</td>\n",
       "      <td>1.652167e+06</td>\n",
       "      <td>3.196590e+07</td>\n",
       "      <td>0.378478</td>\n",
       "    </tr>\n",
       "    <tr>\n",
       "      <th>3</th>\n",
       "      <td>Mature 17+</td>\n",
       "      <td>3.809419</td>\n",
       "      <td>3.951233e+05</td>\n",
       "      <td>1.107112e+07</td>\n",
       "      <td>0.236673</td>\n",
       "    </tr>\n",
       "    <tr>\n",
       "      <th>4</th>\n",
       "      <td>Teen</td>\n",
       "      <td>3.798924</td>\n",
       "      <td>9.366918e+05</td>\n",
       "      <td>2.873870e+07</td>\n",
       "      <td>0.543278</td>\n",
       "    </tr>\n",
       "    <tr>\n",
       "      <th>5</th>\n",
       "      <td>Unrated</td>\n",
       "      <td>1.366667</td>\n",
       "      <td>3.966667e+02</td>\n",
       "      <td>1.683333e+04</td>\n",
       "      <td>0.000000</td>\n",
       "    </tr>\n",
       "  </tbody>\n",
       "</table>\n",
       "</div>"
      ],
      "text/plain": [
       "    Content Rating    Rating       Reviews      Installs     Price\n",
       "0  Adults only 18+  4.300000  2.711600e+04  6.666667e+05  0.000000\n",
       "1         Everyone  3.564712  3.215340e+05  1.310037e+07  1.171173\n",
       "2     Everyone 10+  4.082367  1.652167e+06  3.196590e+07  0.378478\n",
       "3       Mature 17+  3.809419  3.951233e+05  1.107112e+07  0.236673\n",
       "4             Teen  3.798924  9.366918e+05  2.873870e+07  0.543278\n",
       "5          Unrated  1.366667  3.966667e+02  1.683333e+04  0.000000"
      ]
     },
     "execution_count": 18,
     "metadata": {},
     "output_type": "execute_result"
    }
   ],
   "source": [
    "df.groupby('Content Rating').mean().reset_index()"
   ]
  },
  {
   "cell_type": "code",
   "execution_count": 19,
   "metadata": {},
   "outputs": [
    {
     "data": {
      "text/html": [
       "<div>\n",
       "<style scoped>\n",
       "    .dataframe tbody tr th:only-of-type {\n",
       "        vertical-align: middle;\n",
       "    }\n",
       "\n",
       "    .dataframe tbody tr th {\n",
       "        vertical-align: top;\n",
       "    }\n",
       "\n",
       "    .dataframe thead th {\n",
       "        text-align: right;\n",
       "    }\n",
       "</style>\n",
       "<table border=\"1\" class=\"dataframe\">\n",
       "  <thead>\n",
       "    <tr style=\"text-align: right;\">\n",
       "      <th></th>\n",
       "      <th>Type</th>\n",
       "      <th>Content Rating</th>\n",
       "      <th>Rating</th>\n",
       "      <th>Reviews</th>\n",
       "      <th>Installs</th>\n",
       "      <th>Price</th>\n",
       "    </tr>\n",
       "  </thead>\n",
       "  <tbody>\n",
       "    <tr>\n",
       "      <th>0</th>\n",
       "      <td>Free</td>\n",
       "      <td>Adults only 18+</td>\n",
       "      <td>4.300000</td>\n",
       "      <td>2.711600e+04</td>\n",
       "      <td>6.666667e+05</td>\n",
       "      <td>0.000000</td>\n",
       "    </tr>\n",
       "    <tr>\n",
       "      <th>1</th>\n",
       "      <td>Free</td>\n",
       "      <td>Everyone</td>\n",
       "      <td>3.581494</td>\n",
       "      <td>3.490451e+05</td>\n",
       "      <td>1.423185e+07</td>\n",
       "      <td>0.000000</td>\n",
       "    </tr>\n",
       "    <tr>\n",
       "      <th>2</th>\n",
       "      <td>Free</td>\n",
       "      <td>Everyone 10+</td>\n",
       "      <td>4.061417</td>\n",
       "      <td>1.781766e+06</td>\n",
       "      <td>3.467026e+07</td>\n",
       "      <td>0.000000</td>\n",
       "    </tr>\n",
       "    <tr>\n",
       "      <th>3</th>\n",
       "      <td>Free</td>\n",
       "      <td>Mature 17+</td>\n",
       "      <td>3.811482</td>\n",
       "      <td>4.099838e+05</td>\n",
       "      <td>1.150962e+07</td>\n",
       "      <td>0.000000</td>\n",
       "    </tr>\n",
       "    <tr>\n",
       "      <th>4</th>\n",
       "      <td>Free</td>\n",
       "      <td>Teen</td>\n",
       "      <td>3.797059</td>\n",
       "      <td>9.783465e+05</td>\n",
       "      <td>3.002661e+07</td>\n",
       "      <td>0.000000</td>\n",
       "    </tr>\n",
       "    <tr>\n",
       "      <th>5</th>\n",
       "      <td>Free</td>\n",
       "      <td>Unrated</td>\n",
       "      <td>1.366667</td>\n",
       "      <td>3.966667e+02</td>\n",
       "      <td>1.683333e+04</td>\n",
       "      <td>0.000000</td>\n",
       "    </tr>\n",
       "    <tr>\n",
       "      <th>6</th>\n",
       "      <td>Paid</td>\n",
       "      <td>Everyone</td>\n",
       "      <td>3.371079</td>\n",
       "      <td>4.107640e+03</td>\n",
       "      <td>4.528364e+04</td>\n",
       "      <td>14.684317</td>\n",
       "    </tr>\n",
       "    <tr>\n",
       "      <th>7</th>\n",
       "      <td>Paid</td>\n",
       "      <td>Everyone 10+</td>\n",
       "      <td>4.324242</td>\n",
       "      <td>1.558885e+05</td>\n",
       "      <td>7.428636e+05</td>\n",
       "      <td>4.748182</td>\n",
       "    </tr>\n",
       "    <tr>\n",
       "      <th>8</th>\n",
       "      <td>Paid</td>\n",
       "      <td>Mature 17+</td>\n",
       "      <td>3.760000</td>\n",
       "      <td>3.921545e+04</td>\n",
       "      <td>5.691260e+05</td>\n",
       "      <td>5.905000</td>\n",
       "    </tr>\n",
       "    <tr>\n",
       "      <th>9</th>\n",
       "      <td>Paid</td>\n",
       "      <td>Teen</td>\n",
       "      <td>3.840385</td>\n",
       "      <td>1.067715e+04</td>\n",
       "      <td>1.074410e+05</td>\n",
       "      <td>12.620769</td>\n",
       "    </tr>\n",
       "  </tbody>\n",
       "</table>\n",
       "</div>"
      ],
      "text/plain": [
       "   Type   Content Rating    Rating       Reviews      Installs      Price\n",
       "0  Free  Adults only 18+  4.300000  2.711600e+04  6.666667e+05   0.000000\n",
       "1  Free         Everyone  3.581494  3.490451e+05  1.423185e+07   0.000000\n",
       "2  Free     Everyone 10+  4.061417  1.781766e+06  3.467026e+07   0.000000\n",
       "3  Free       Mature 17+  3.811482  4.099838e+05  1.150962e+07   0.000000\n",
       "4  Free             Teen  3.797059  9.783465e+05  3.002661e+07   0.000000\n",
       "5  Free          Unrated  1.366667  3.966667e+02  1.683333e+04   0.000000\n",
       "6  Paid         Everyone  3.371079  4.107640e+03  4.528364e+04  14.684317\n",
       "7  Paid     Everyone 10+  4.324242  1.558885e+05  7.428636e+05   4.748182\n",
       "8  Paid       Mature 17+  3.760000  3.921545e+04  5.691260e+05   5.905000\n",
       "9  Paid             Teen  3.840385  1.067715e+04  1.074410e+05  12.620769"
      ]
     },
     "execution_count": 19,
     "metadata": {},
     "output_type": "execute_result"
    }
   ],
   "source": [
    "df.groupby(['Type','Content Rating']).mean().reset_index()"
   ]
  },
  {
   "cell_type": "markdown",
   "metadata": {},
   "source": [
    "<div class=\"alert alert-block alert-info\">\n",
    "    <h2 align=\"center\">Visualization with seaborn</h2>\n",
    "</div>"
   ]
  },
  {
   "cell_type": "code",
   "execution_count": 20,
   "metadata": {},
   "outputs": [
    {
     "data": {
      "text/plain": [
       "<seaborn.axisgrid.FacetGrid at 0x1d83d6f3ac0>"
      ]
     },
     "execution_count": 20,
     "metadata": {},
     "output_type": "execute_result"
    },
    {
     "data": {
      "image/png": "[encoded data removed]",
      "text/plain": [
       "<Figure size 360x360 with 1 Axes>"
      ]
     },
     "metadata": {
      "needs_background": "light"
     },
     "output_type": "display_data"
    }
   ],
   "source": [
    "sns.displot(df,x='Type')"
   ]
  },
  {
   "cell_type": "code",
   "execution_count": 21,
   "metadata": {},
   "outputs": [
    {
     "data": {
      "text/plain": [
       "<seaborn.axisgrid.FacetGrid at 0x1d83e1127c0>"
      ]
     },
     "execution_count": 21,
     "metadata": {},
     "output_type": "execute_result"
    },
    {
     "data": {
      "image/png": "[encoded data removed]",
      "text/plain": [
       "<Figure size 360x360 with 1 Axes>"
      ]
     },
     "metadata": {
      "needs_background": "light"
     },
     "output_type": "display_data"
    }
   ],
   "source": [
    "sns.displot(df,x='Rating')"
   ]
  },
  {
   "cell_type": "code",
   "execution_count": 22,
   "metadata": {},
   "outputs": [
    {
     "data": {
      "text/plain": [
       "<seaborn.axisgrid.FacetGrid at 0x1d83e219490>"
      ]
     },
     "execution_count": 22,
     "metadata": {},
     "output_type": "execute_result"
    },
    {
     "data": {
      "image/png": "[encoded data removed]",
      "text/plain": [
       "<Figure size 360x360 with 1 Axes>"
      ]
     },
     "metadata": {
      "needs_background": "light"
     },
     "output_type": "display_data"
    }
   ],
   "source": [
    "sns.catplot(x='Type',y='Rating',data=df)"
   ]
  },
  {
   "cell_type": "code",
   "execution_count": 23,
   "metadata": {},
   "outputs": [
    {
     "data": {
      "text/plain": [
       "<seaborn.axisgrid.FacetGrid at 0x1d83e219760>"
      ]
     },
     "execution_count": 23,
     "metadata": {},
     "output_type": "execute_result"
    },
    {
     "data": {
      "image/png": "[encoded data removed]",
      "text/plain": [
       "<Figure size 360x360 with 1 Axes>"
      ]
     },
     "metadata": {
      "needs_background": "light"
     },
     "output_type": "display_data"
    }
   ],
   "source": [
    "sns.catplot(x='Content Rating',y='Rating',data=df)"
   ]
  }
 ],
 "metadata": {
  "kernelspec": {
   "display_name": "Python 3",
   "language": "python",
   "name": "python3"
  },
  "language_info": {
   "codemirror_mode": {
    "name": "ipython",
    "version": 3
   },
   "file_extension": ".py",
   "mimetype": "text/x-python",
   "name": "python",
   "nbconvert_exporter": "python",
   "pygments_lexer": "ipython3",
   "version": "3.8.8"
  }
 },
 "nbformat": 4,
 "nbformat_minor": 2
}
