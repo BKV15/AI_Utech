{
  "nbformat": 4,
  "nbformat_minor": 0,
  "metadata": {
    "colab": {
      "name": "E1-2.ipynb",
      "provenance": [],
      "authorship_tag": "ABX9TyMlvfahpX7hOVwFAFV0eca6",
      "include_colab_link": true
    },
    "kernelspec": {
      "name": "python3",
      "display_name": "Python 3"
    },
    "language_info": {
      "name": "python"
    },
    "accelerator": "GPU"
  },
  "cells": [
    {
      "cell_type": "markdown",
      "metadata": {
        "id": "view-in-github",
        "colab_type": "text"
      },
      "source": [
        "<a href=\"https://colab.research.google.com/github/BKV15/AI_Utech/blob/main/Deep%20Learning/Exercise_1/E1-2.ipynb\" target=\"_parent\"><img src=\"https://colab.research.google.com/assets/colab-badge.svg\" alt=\"Open In Colab\"/></a>"
      ]
    },
    {
      "cell_type": "markdown",
      "source": [
        "# Exercise 1 - 2 : Fashion MNISt dataset classification"
      ],
      "metadata": {
        "id": "Lchu7mgtn4XX"
      }
    },
    {
      "cell_type": "markdown",
      "source": [
        "## ` Importing Libraries`"
      ],
      "metadata": {
        "id": "H0zsCEm1oY3n"
      }
    },
    {
      "cell_type": "code",
      "execution_count": 42,
      "metadata": {
        "id": "fkEXHf_0ny-2"
      },
      "outputs": [],
      "source": [
        "import numpy as np\n",
        "from tensorflow import keras\n",
        "from keras.models import Sequential\n",
        "from keras.layers import Dense , Dropout\n",
        "from keras.datasets import fashion_mnist\n",
        "import matplotlib.pyplot as plt\n",
        "from skimage.transform import resize\n",
        "from sklearn.metrics import confusion_matrix"
      ]
    },
    {
      "cell_type": "markdown",
      "source": [
        "## `Loading the dataset`"
      ],
      "metadata": {
        "id": "5s8giYUxo1X_"
      }
    },
    {
      "cell_type": "code",
      "source": [
        "(X_train_raw , y_train_raw) , (X_test_raw , y_test_raw) = fashion_mnist.load_data()"
      ],
      "metadata": {
        "id": "8_q8QZNPo0Wm"
      },
      "execution_count": 24,
      "outputs": []
    },
    {
      "cell_type": "markdown",
      "source": [
        "## `Number of target classes and Their labels`\n",
        "[Labels source]('https://machinelearningmastery.com/how-to-develop-a-cnn-from-scratch-for-fashion-mnist-clothing-classification/)"
      ],
      "metadata": {
        "id": "-WPaZB69pj4G"
      }
    },
    {
      "cell_type": "code",
      "source": [
        "labels_mapping = {0: 'T-shirt/top',\n",
        "                  1: 'Trouser',\n",
        "                  2: 'Pullover',\n",
        "                  3: 'Dress',\n",
        "                  4: 'Coat',\n",
        "                  5: 'Sandal',\n",
        "                  6: 'Shirt',\n",
        "                  7: 'Sneaker',\n",
        "                  8: 'Bag',\n",
        "                  9: 'Ankle boo'}"
      ],
      "metadata": {
        "id": "71T757BEs62I"
      },
      "execution_count": 12,
      "outputs": []
    },
    {
      "cell_type": "code",
      "source": [
        "for index in np.unique(y_train_raw):\n",
        "    print(f'Class : {index} , Label : {labels_mapping[index]}')"
      ],
      "metadata": {
        "colab": {
          "base_uri": "https://localhost:8080/"
        },
        "id": "eKoRw-3ipDas",
        "outputId": "b50e27a3-fe57-443f-8b6f-b28eaee7d6df"
      },
      "execution_count": 25,
      "outputs": [
        {
          "output_type": "stream",
          "name": "stdout",
          "text": [
            "Class : 0 , Label : T-shirt/top\n",
            "Class : 1 , Label : Trouser\n",
            "Class : 2 , Label : Pullover\n",
            "Class : 3 , Label : Dress\n",
            "Class : 4 , Label : Coat\n",
            "Class : 5 , Label : Sandal\n",
            "Class : 6 , Label : Shirt\n",
            "Class : 7 , Label : Sneaker\n",
            "Class : 8 , Label : Bag\n",
            "Class : 9 , Label : Ankle boo\n"
          ]
        }
      ]
    },
    {
      "cell_type": "markdown",
      "source": [
        "## `Number pictures and their labels`"
      ],
      "metadata": {
        "id": "Kl3i2Ambpt1W"
      }
    },
    {
      "cell_type": "code",
      "source": [
        "# Sample range for train : 0-59999 and for test : 0-9999\n",
        "sample_train = 54123\n",
        "sample_test = 2213\n",
        "\n",
        "plt.figure(1)\n",
        "plt.imshow(X_train_raw[sample_train])\n",
        "plt.title(labels_mapping[y_train_raw[sample_train]])\n",
        "plt.show()\n",
        "\n",
        "plt.figure(2)\n",
        "plt.imshow(X_test_raw[sample_test])\n",
        "plt.title(labels_mapping[y_test_raw[sample_test]])\n",
        "plt.show()"
      ],
      "metadata": {
        "colab": {
          "base_uri": "https://localhost:8080/",
          "height": 545
        },
        "id": "g93Az-q4pFuX",
        "outputId": "a728bc88-d7bf-40aa-fd89-2b2d059f16e1"
      },
      "execution_count": 26,
      "outputs": [
        {
          "output_type": "display_data",
          "data": {
            "image/png": "[encoded data removed]",
            "text/plain": [
              "<Figure size 432x288 with 1 Axes>"
            ]
          },
          "metadata": {
            "needs_background": "light"
          }
        },
        {
          "output_type": "display_data",
          "data": {
            "image/png": "[encoded data removed]",
            "text/plain": [
              "<Figure size 432x288 with 1 Axes>"
            ]
          },
          "metadata": {
            "needs_background": "light"
          }
        }
      ]
    },
    {
      "cell_type": "markdown",
      "source": [
        "## ` Preprocessing dataset for training`\n",
        "* `step 1 :` Flattening images\n",
        "* `step 2 :` Normalizing image values\n",
        "* `step 3 :` OneHotEncoding labels"
      ],
      "metadata": {
        "id": "Ukhhkj9xt-hV"
      }
    },
    {
      "cell_type": "code",
      "source": [
        "X_train = np.array([img.reshape(784) for img in X_train_raw])\n",
        "X_test = np.array([img.reshape(784) for img in X_test_raw])\n",
        "\n",
        "X_train = X_train / 255\n",
        "X_test = X_test / 255\n",
        "\n",
        "print('Original Shape :')\n",
        "print(f'Train shape : {X_train_raw.shape} , Test shape : {X_test_raw.shape}')\n",
        "print('Flatten shape :')\n",
        "print(f'Train shape : {X_train.shape} , Test shape : {X_test.shape}')"
      ],
      "metadata": {
        "colab": {
          "base_uri": "https://localhost:8080/"
        },
        "id": "yVfDNnNRq0-h",
        "outputId": "554b9451-dd53-459e-a668-e4525a3d1d8f"
      },
      "execution_count": 30,
      "outputs": [
        {
          "output_type": "stream",
          "name": "stdout",
          "text": [
            "Original Shape :\n",
            "Train shape : (60000, 28, 28) , Test shape : (10000, 28, 28)\n",
            "Flatten shape :\n",
            "Train shape : (60000, 784) , Test shape : (10000, 784)\n"
          ]
        }
      ]
    },
    {
      "cell_type": "code",
      "source": [
        "y_train = keras.utils.to_categorical(y_train_raw , num_classes=10)\n",
        "y_test = keras.utils.to_categorical(y_test_raw , num_classes=10)\n",
        "\n",
        "print('Original Shape :')\n",
        "print(f'Train shape : {y_train_raw.shape} , Test shape : {y_test_raw.shape}')\n",
        "print('Encoded shape :')\n",
        "print(f'Train shape : {y_train.shape} , Test shape : {y_test.shape}')"
      ],
      "metadata": {
        "colab": {
          "base_uri": "https://localhost:8080/"
        },
        "id": "43gu46_4ucmN",
        "outputId": "25725f2c-e0bc-4970-f6e4-3b6dc6a92eb8"
      },
      "execution_count": 32,
      "outputs": [
        {
          "output_type": "stream",
          "name": "stdout",
          "text": [
            "Original Shape :\n",
            "Train shape : (60000,) , Test shape : (10000,)\n",
            "Encoded shape :\n",
            "Train shape : (60000, 10) , Test shape : (10000, 10)\n"
          ]
        }
      ]
    },
    {
      "cell_type": "markdown",
      "source": [
        "## ` Building and training model`"
      ],
      "metadata": {
        "id": "LUjpopItyC7E"
      }
    },
    {
      "cell_type": "code",
      "source": [
        "model = Sequential()\n",
        "model.add(Dense(128 , activation='relu' , input_dim=784))\n",
        "model.add(Dense(256 , activation='relu'))\n",
        "model.add(Dropout(0.5))\n",
        "model.add(Dense(10 , activation='softmax'))\n",
        "\n",
        "model.summary()"
      ],
      "metadata": {
        "colab": {
          "base_uri": "https://localhost:8080/"
        },
        "id": "kZemecd8x0oS",
        "outputId": "5af127ea-450d-4c95-ac69-42b084f536f4"
      },
      "execution_count": 34,
      "outputs": [
        {
          "output_type": "stream",
          "name": "stdout",
          "text": [
            "Model: \"sequential\"\n",
            "_________________________________________________________________\n",
            " Layer (type)                Output Shape              Param #   \n",
            "=================================================================\n",
            " dense (Dense)               (None, 128)               100480    \n",
            "                                                                 \n",
            " dense_1 (Dense)             (None, 256)               33024     \n",
            "                                                                 \n",
            " dropout (Dropout)           (None, 256)               0         \n",
            "                                                                 \n",
            " dense_2 (Dense)             (None, 10)                2570      \n",
            "                                                                 \n",
            "=================================================================\n",
            "Total params: 136,074\n",
            "Trainable params: 136,074\n",
            "Non-trainable params: 0\n",
            "_________________________________________________________________\n"
          ]
        }
      ]
    },
    {
      "cell_type": "code",
      "source": [
        "model.compile(optimizer='rmsprop' , loss='categorical_crossentropy' , metrics=['accuracy'])"
      ],
      "metadata": {
        "id": "onAfWTu4ysh4"
      },
      "execution_count": 36,
      "outputs": []
    },
    {
      "cell_type": "code",
      "source": [
        "history = model.fit(X_train , y_train , batch_size=100 , epochs=100 , validation_split=0.2)"
      ],
      "metadata": {
        "id": "veS41xxxy7P9"
      },
      "execution_count": null,
      "outputs": []
    },
    {
      "cell_type": "markdown",
      "source": [
        "## ` Evaluating model`"
      ],
      "metadata": {
        "id": "hTUqakMT1bU8"
      }
    },
    {
      "cell_type": "code",
      "source": [
        "loss , acc = model.evaluate(X_test , y_test)\n",
        "\n",
        "print(f'Test Accuracy : {acc:.2f} , Test Loss : {loss:.2f}')"
      ],
      "metadata": {
        "colab": {
          "base_uri": "https://localhost:8080/"
        },
        "id": "bMaqEk7X3JjF",
        "outputId": "0ed64e29-0289-40b9-e739-c35e864130b9"
      },
      "execution_count": 41,
      "outputs": [
        {
          "output_type": "stream",
          "name": "stdout",
          "text": [
            "313/313 [==============================] - 1s 4ms/step - loss: 2.4399 - accuracy: 0.8648\n",
            "Test Accuracy : 0.86 , Test Loss : 2.44\n"
          ]
        }
      ]
    },
    {
      "cell_type": "code",
      "source": [
        "predicted_proba = model.predict(X_test)\n",
        "y_pred = np.argmax(predicted_proba , axis=1)\n",
        "confusion_matrix(y_test_raw , y_pred)"
      ],
      "metadata": {
        "colab": {
          "base_uri": "https://localhost:8080/"
        },
        "id": "ZgqsvRt03cq8",
        "outputId": "4431ed9e-6789-469b-f20f-d8ea9a75337c"
      },
      "execution_count": 43,
      "outputs": [
        {
          "output_type": "execute_result",
          "data": {
            "text/plain": [
              "array([[825,   2,  22,  34,   5,   1, 105,   1,   5,   0],\n",
              "       [  2, 975,   2,  15,   5,   0,   0,   0,   1,   0],\n",
              "       [ 15,   2, 739,   9, 204,   1,  28,   0,   2,   0],\n",
              "       [ 28,   7,  13, 856,  68,   1,  26,   0,   1,   0],\n",
              "       [  1,   0,  58,  16, 904,   0,  16,   0,   5,   0],\n",
              "       [  1,   0,   0,   0,   0, 953,   1,  27,   3,  15],\n",
              "       [141,   1, 124,  25, 187,   0, 505,   0,  17,   0],\n",
              "       [  0,   0,   0,   0,   0,  12,   0, 971,   2,  15],\n",
              "       [  3,   2,   5,   4,   6,   2,   2,   4, 972,   0],\n",
              "       [  0,   0,   0,   0,   0,   8,   1,  43,   0, 948]])"
            ]
          },
          "metadata": {},
          "execution_count": 43
        }
      ]
    },
    {
      "cell_type": "code",
      "source": [
        "acc = history.history['accuracy']\n",
        "val_acc = history.history['val_accuracy']\n",
        "\n",
        "loss = history.history['loss']\n",
        "val_loss = history.history['val_loss']\n",
        "\n",
        "print(f'Last training accuracy : {acc[-1]} , Last validation accuracy : {val_acc[-1]}')\n",
        "print(f'Max training accuracy : {max(acc)} , Max validation accuracy : {max(val_acc)}')\n",
        "\n",
        "print(f'Last training loss : {loss[-1]} , Last validation loss : {val_loss[-1]}')\n",
        "print(f'Min training loss : {min(loss)} , Min validation loss : {min(val_loss)}')"
      ],
      "metadata": {
        "colab": {
          "base_uri": "https://localhost:8080/"
        },
        "id": "oFxreiRYzTL8",
        "outputId": "21c99356-51fa-4cb1-a4ee-21377809db81"
      },
      "execution_count": 39,
      "outputs": [
        {
          "output_type": "stream",
          "name": "stdout",
          "text": [
            "Last training accuracy : 0.9352916479110718 , Last validation accuracy : 0.8706666827201843\n",
            "Max training accuracy : 0.9354583621025085 , Max validation accuracy : 0.8884999752044678\n",
            "Last training loss : 0.23389174044132233 , Last validation loss : 1.880027174949646\n",
            "Min training loss : 0.21251997351646423 , Min validation loss : 0.5216587781906128\n"
          ]
        }
      ]
    },
    {
      "cell_type": "code",
      "source": [
        "plt.figure(1)\n",
        "plt.plot(acc , label='Training accuracy')\n",
        "plt.plot(val_acc , label='Validation accuracy')\n",
        "plt.xlabel('epochs')\n",
        "plt.ylabel('accuracy')\n",
        "plt.legend()\n",
        "plt.show()\n",
        "\n",
        "plt.figure(2)\n",
        "plt.plot(loss , label='Training loss')\n",
        "plt.plot(val_loss , label='Validation loss')\n",
        "plt.xlabel('epochs')\n",
        "plt.ylabel('loss')\n",
        "plt.legend()\n",
        "plt.show()"
      ],
      "metadata": {
        "colab": {
          "base_uri": "https://localhost:8080/",
          "height": 541
        },
        "id": "BjIFeW9P2W4n",
        "outputId": "1fc75178-6594-4d2c-a78a-0cf170b38c89"
      },
      "execution_count": 40,
      "outputs": [
        {
          "output_type": "display_data",
          "data": {
            "image/png": "[encoded data removed]",
            "text/plain": [
              "<Figure size 432x288 with 1 Axes>"
            ]
          },
          "metadata": {
            "needs_background": "light"
          }
        },
        {
          "output_type": "display_data",
          "data": {
            "image/png": "[encoded data removed]",
            "text/plain": [
              "<Figure size 432x288 with 1 Axes>"
            ]
          },
          "metadata": {
            "needs_background": "light"
          }
        }
      ]
    },
    {
      "cell_type": "code",
      "source": [
        ""
      ],
      "metadata": {
        "id": "B6MoewBd2pY5"
      },
      "execution_count": null,
      "outputs": []
    }
  ]
}