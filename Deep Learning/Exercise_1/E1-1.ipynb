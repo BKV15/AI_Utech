{
  "cells": [
    {
      "cell_type": "markdown",
      "metadata": {
        "id": "view-in-github",
        "colab_type": "text"
      },
      "source": [
        "<a href=\"https://colab.research.google.com/github/BKV15/AI_Utech/blob/main/Deep%20Learning/Exercise_1/E1-1.ipynb\" target=\"_parent\"><img src=\"https://colab.research.google.com/assets/colab-badge.svg\" alt=\"Open In Colab\"/></a>"
      ]
    },
    {
      "cell_type": "markdown",
      "metadata": {
        "id": "9v9aW3yzhNOv"
      },
      "source": [
        "# Exercise 1 - Classification with fully connected neural network on iris dataset"
      ]
    },
    {
      "cell_type": "markdown",
      "metadata": {
        "id": "LzmNHNqXhNO5"
      },
      "source": [
        " Using a fully connected neural network to classify iris classes based on width and lenght of petal and sepal."
      ]
    },
    {
      "cell_type": "markdown",
      "metadata": {
        "id": "q4Td1K3EhNO6"
      },
      "source": [
        "## `Importing Libraries`"
      ]
    },
    {
      "cell_type": "code",
      "execution_count": 1,
      "metadata": {
        "id": "SeqW8HbNhNO7"
      },
      "outputs": [],
      "source": [
        "import numpy as np\n",
        "from tensorflow import keras\n",
        "from sklearn.datasets import load_iris\n",
        "from sklearn.model_selection import train_test_split\n",
        "from keras.models import Sequential\n",
        "from keras.layers import Dense, Dropout\n",
        "from tensorflow.keras.optimizers import Adam"
      ]
    },
    {
      "cell_type": "markdown",
      "source": [
        "## ` Loading dataset`"
      ],
      "metadata": {
        "id": "3DAL9yLLjaa_"
      }
    },
    {
      "cell_type": "code",
      "execution_count": 9,
      "metadata": {
        "id": "v0yH5iF4hNO_"
      },
      "outputs": [],
      "source": [
        "iris_data = load_iris()\n",
        "x = iris_data.data\n",
        "y = iris_data.target.reshape(-1,1)"
      ]
    },
    {
      "cell_type": "markdown",
      "metadata": {
        "id": "ZIHCQDPBhNO_"
      },
      "source": [
        "## Question 1 : \n",
        "OneHotEncoding targets"
      ]
    },
    {
      "cell_type": "code",
      "execution_count": 11,
      "metadata": {
        "id": "HKf-qObwhNPA"
      },
      "outputs": [],
      "source": [
        "y = keras.utils.to_categorical(y , num_classes=3)"
      ]
    },
    {
      "cell_type": "code",
      "execution_count": 14,
      "metadata": {
        "id": "TtGxEumshNPB"
      },
      "outputs": [],
      "source": [
        "# Split the data for training and testing\n",
        "train_x, test_x, train_y, test_y = train_test_split(x, y, test_size=0.20)"
      ]
    },
    {
      "cell_type": "markdown",
      "source": [
        "## Question 2 :\n",
        "Build a network with 2 hidden layers, Each hidden layers having 10 neuron with an activation function of ReLU and a dropout layer with rate 0.5 before the last layer. Last layer neurons activation functions are softmax"
      ],
      "metadata": {
        "id": "i9DHF-VFk13e"
      }
    },
    {
      "cell_type": "code",
      "execution_count": 17,
      "metadata": {
        "id": "pCknRFnUhNPC"
      },
      "outputs": [],
      "source": [
        "# Build the model\n",
        "model = Sequential()\n",
        "model.add(Dense(10 , activation='relu' , input_dim=4))\n",
        "model.add(Dense(10 , activation='relu'))\n",
        "model.add(Dropout(0.5))\n",
        "model.add(Dense(3 , activation='softmax'))"
      ]
    },
    {
      "cell_type": "code",
      "execution_count": 18,
      "metadata": {
        "id": "VxVGRbUQhNPC",
        "outputId": "5ac53ab9-b242-45d2-b961-d2c8d04070d9",
        "colab": {
          "base_uri": "https://localhost:8080/"
        }
      },
      "outputs": [
        {
          "output_type": "stream",
          "name": "stdout",
          "text": [
            "Model: \"sequential\"\n",
            "_________________________________________________________________\n",
            " Layer (type)                Output Shape              Param #   \n",
            "=================================================================\n",
            " dense (Dense)               (None, 10)                50        \n",
            "                                                                 \n",
            " dense_1 (Dense)             (None, 10)                110       \n",
            "                                                                 \n",
            " dropout (Dropout)           (None, 10)                0         \n",
            "                                                                 \n",
            " dense_2 (Dense)             (None, 3)                 33        \n",
            "                                                                 \n",
            "=================================================================\n",
            "Total params: 193\n",
            "Trainable params: 193\n",
            "Non-trainable params: 0\n",
            "_________________________________________________________________\n"
          ]
        }
      ],
      "source": [
        "model.summary()"
      ]
    },
    {
      "cell_type": "code",
      "execution_count": 19,
      "metadata": {
        "id": "DKCiejI1hNPD"
      },
      "outputs": [],
      "source": [
        "# Adam optimizer with learning rate of 0.001\n",
        "optimizer = Adam(learning_rate=0.001)\n",
        "model.compile(optimizer, loss='categorical_crossentropy', metrics=['accuracy'])"
      ]
    },
    {
      "cell_type": "markdown",
      "source": [
        "## Question 3 :\n",
        "Train the model with a batch size of 5 and 200 epochs"
      ],
      "metadata": {
        "id": "rRrq_HvBlvhn"
      }
    },
    {
      "cell_type": "code",
      "execution_count": 20,
      "metadata": {
        "id": "N2i5sV9dhNPF",
        "outputId": "18f0ca35-f03f-4edd-de0f-18eeb0f63471",
        "colab": {
          "base_uri": "https://localhost:8080/"
        }
      },
      "outputs": [
        {
          "output_type": "stream",
          "name": "stdout",
          "text": [
            "Epoch 1/200\n",
            "20/20 [==============================] - 1s 17ms/step - loss: 2.0435 - accuracy: 0.3438 - val_loss: 1.5699 - val_accuracy: 0.3333\n",
            "Epoch 2/200\n",
            "20/20 [==============================] - 0s 4ms/step - loss: 1.4361 - accuracy: 0.4062 - val_loss: 1.4199 - val_accuracy: 0.3333\n",
            "Epoch 3/200\n",
            "20/20 [==============================] - 0s 4ms/step - loss: 1.4546 - accuracy: 0.3021 - val_loss: 1.3091 - val_accuracy: 0.3333\n",
            "Epoch 4/200\n",
            "20/20 [==============================] - 0s 4ms/step - loss: 1.5369 - accuracy: 0.3854 - val_loss: 1.2295 - val_accuracy: 0.3333\n",
            "Epoch 5/200\n",
            "20/20 [==============================] - 0s 3ms/step - loss: 1.5460 - accuracy: 0.3021 - val_loss: 1.1816 - val_accuracy: 0.3333\n",
            "Epoch 6/200\n",
            "20/20 [==============================] - 0s 4ms/step - loss: 1.3335 - accuracy: 0.4271 - val_loss: 1.1398 - val_accuracy: 0.4167\n",
            "Epoch 7/200\n",
            "20/20 [==============================] - 0s 4ms/step - loss: 1.1940 - accuracy: 0.4271 - val_loss: 1.1119 - val_accuracy: 0.5417\n",
            "Epoch 8/200\n",
            "20/20 [==============================] - 0s 4ms/step - loss: 1.2592 - accuracy: 0.3542 - val_loss: 1.0857 - val_accuracy: 0.3333\n",
            "Epoch 9/200\n",
            "20/20 [==============================] - 0s 4ms/step - loss: 1.2337 - accuracy: 0.3125 - val_loss: 1.0749 - val_accuracy: 0.3333\n",
            "Epoch 10/200\n",
            "20/20 [==============================] - 0s 4ms/step - loss: 1.1238 - accuracy: 0.3438 - val_loss: 1.0729 - val_accuracy: 0.3333\n",
            "Epoch 11/200\n",
            "20/20 [==============================] - 0s 5ms/step - loss: 1.1881 - accuracy: 0.3333 - val_loss: 1.0634 - val_accuracy: 0.3333\n",
            "Epoch 12/200\n",
            "20/20 [==============================] - 0s 3ms/step - loss: 1.1663 - accuracy: 0.2812 - val_loss: 1.0564 - val_accuracy: 0.4167\n",
            "Epoch 13/200\n",
            "20/20 [==============================] - 0s 3ms/step - loss: 1.1047 - accuracy: 0.3750 - val_loss: 1.0430 - val_accuracy: 0.3333\n",
            "Epoch 14/200\n",
            "20/20 [==============================] - 0s 4ms/step - loss: 1.0348 - accuracy: 0.4896 - val_loss: 1.0286 - val_accuracy: 0.3333\n",
            "Epoch 15/200\n",
            "20/20 [==============================] - 0s 3ms/step - loss: 1.0514 - accuracy: 0.5625 - val_loss: 1.0230 - val_accuracy: 0.4167\n",
            "Epoch 16/200\n",
            "20/20 [==============================] - 0s 3ms/step - loss: 1.0907 - accuracy: 0.4583 - val_loss: 1.0203 - val_accuracy: 0.3750\n",
            "Epoch 17/200\n",
            "20/20 [==============================] - 0s 5ms/step - loss: 1.0725 - accuracy: 0.4792 - val_loss: 1.0313 - val_accuracy: 0.5000\n",
            "Epoch 18/200\n",
            "20/20 [==============================] - 0s 4ms/step - loss: 1.0594 - accuracy: 0.5208 - val_loss: 1.0213 - val_accuracy: 0.4583\n",
            "Epoch 19/200\n",
            "20/20 [==============================] - 0s 4ms/step - loss: 1.0401 - accuracy: 0.4688 - val_loss: 1.0150 - val_accuracy: 0.4583\n",
            "Epoch 20/200\n",
            "20/20 [==============================] - 0s 3ms/step - loss: 1.0395 - accuracy: 0.5521 - val_loss: 0.9948 - val_accuracy: 0.3750\n",
            "Epoch 21/200\n",
            "20/20 [==============================] - 0s 5ms/step - loss: 1.0127 - accuracy: 0.4792 - val_loss: 0.9809 - val_accuracy: 0.3333\n",
            "Epoch 22/200\n",
            "20/20 [==============================] - 0s 4ms/step - loss: 1.0620 - accuracy: 0.3438 - val_loss: 0.9814 - val_accuracy: 0.3750\n",
            "Epoch 23/200\n",
            "20/20 [==============================] - 0s 5ms/step - loss: 0.9828 - accuracy: 0.4688 - val_loss: 0.9797 - val_accuracy: 0.3750\n",
            "Epoch 24/200\n",
            "20/20 [==============================] - 0s 4ms/step - loss: 0.9718 - accuracy: 0.4896 - val_loss: 0.9584 - val_accuracy: 0.3750\n",
            "Epoch 25/200\n",
            "20/20 [==============================] - 0s 5ms/step - loss: 0.9632 - accuracy: 0.5417 - val_loss: 0.9499 - val_accuracy: 0.3333\n",
            "Epoch 26/200\n",
            "20/20 [==============================] - 0s 4ms/step - loss: 0.9599 - accuracy: 0.5000 - val_loss: 0.9480 - val_accuracy: 0.3333\n",
            "Epoch 27/200\n",
            "20/20 [==============================] - 0s 4ms/step - loss: 0.9867 - accuracy: 0.4167 - val_loss: 0.9565 - val_accuracy: 0.4583\n",
            "Epoch 28/200\n",
            "20/20 [==============================] - 0s 4ms/step - loss: 0.9955 - accuracy: 0.4375 - val_loss: 0.9557 - val_accuracy: 0.5417\n",
            "Epoch 29/200\n",
            "20/20 [==============================] - 0s 4ms/step - loss: 1.0343 - accuracy: 0.3854 - val_loss: 0.9553 - val_accuracy: 0.6250\n",
            "Epoch 30/200\n",
            "20/20 [==============================] - 0s 4ms/step - loss: 1.0081 - accuracy: 0.3958 - val_loss: 0.9428 - val_accuracy: 0.5417\n",
            "Epoch 31/200\n",
            "20/20 [==============================] - 0s 4ms/step - loss: 0.9627 - accuracy: 0.4062 - val_loss: 0.9345 - val_accuracy: 0.4583\n",
            "Epoch 32/200\n",
            "20/20 [==============================] - 0s 4ms/step - loss: 1.0030 - accuracy: 0.4271 - val_loss: 0.9380 - val_accuracy: 0.4583\n",
            "Epoch 33/200\n",
            "20/20 [==============================] - 0s 3ms/step - loss: 0.9877 - accuracy: 0.4167 - val_loss: 0.9265 - val_accuracy: 0.4583\n",
            "Epoch 34/200\n",
            "20/20 [==============================] - 0s 4ms/step - loss: 0.9315 - accuracy: 0.4479 - val_loss: 0.9164 - val_accuracy: 0.5833\n",
            "Epoch 35/200\n",
            "20/20 [==============================] - 0s 4ms/step - loss: 0.9492 - accuracy: 0.4583 - val_loss: 0.9135 - val_accuracy: 0.6667\n",
            "Epoch 36/200\n",
            "20/20 [==============================] - 0s 4ms/step - loss: 0.9741 - accuracy: 0.4271 - val_loss: 0.9184 - val_accuracy: 0.7500\n",
            "Epoch 37/200\n",
            "20/20 [==============================] - 0s 4ms/step - loss: 0.9823 - accuracy: 0.3333 - val_loss: 0.9144 - val_accuracy: 0.8333\n",
            "Epoch 38/200\n",
            "20/20 [==============================] - 0s 4ms/step - loss: 0.9818 - accuracy: 0.4479 - val_loss: 0.9085 - val_accuracy: 0.7500\n",
            "Epoch 39/200\n",
            "20/20 [==============================] - 0s 4ms/step - loss: 0.9581 - accuracy: 0.4583 - val_loss: 0.8913 - val_accuracy: 0.6667\n",
            "Epoch 40/200\n",
            "20/20 [==============================] - 0s 4ms/step - loss: 0.9119 - accuracy: 0.4583 - val_loss: 0.8946 - val_accuracy: 0.7500\n",
            "Epoch 41/200\n",
            "20/20 [==============================] - 0s 4ms/step - loss: 0.9450 - accuracy: 0.3750 - val_loss: 0.8901 - val_accuracy: 0.7500\n",
            "Epoch 42/200\n",
            "20/20 [==============================] - 0s 5ms/step - loss: 1.0102 - accuracy: 0.3750 - val_loss: 0.9061 - val_accuracy: 0.7500\n",
            "Epoch 43/200\n",
            "20/20 [==============================] - 0s 4ms/step - loss: 0.9157 - accuracy: 0.5208 - val_loss: 0.8854 - val_accuracy: 0.7500\n",
            "Epoch 44/200\n",
            "20/20 [==============================] - 0s 4ms/step - loss: 0.9195 - accuracy: 0.5625 - val_loss: 0.8718 - val_accuracy: 0.7500\n",
            "Epoch 45/200\n",
            "20/20 [==============================] - 0s 3ms/step - loss: 0.9015 - accuracy: 0.5729 - val_loss: 0.8590 - val_accuracy: 0.7083\n",
            "Epoch 46/200\n",
            "20/20 [==============================] - 0s 3ms/step - loss: 0.9454 - accuracy: 0.5312 - val_loss: 0.8616 - val_accuracy: 0.7500\n",
            "Epoch 47/200\n",
            "20/20 [==============================] - 0s 4ms/step - loss: 0.9478 - accuracy: 0.5312 - val_loss: 0.8653 - val_accuracy: 0.7917\n",
            "Epoch 48/200\n",
            "20/20 [==============================] - 0s 4ms/step - loss: 0.9087 - accuracy: 0.5938 - val_loss: 0.8589 - val_accuracy: 0.8333\n",
            "Epoch 49/200\n",
            "20/20 [==============================] - 0s 4ms/step - loss: 0.8807 - accuracy: 0.6042 - val_loss: 0.8386 - val_accuracy: 0.7500\n",
            "Epoch 50/200\n",
            "20/20 [==============================] - 0s 4ms/step - loss: 0.9565 - accuracy: 0.4896 - val_loss: 0.8385 - val_accuracy: 0.7500\n",
            "Epoch 51/200\n",
            "20/20 [==============================] - 0s 4ms/step - loss: 0.9353 - accuracy: 0.5104 - val_loss: 0.8454 - val_accuracy: 0.7500\n",
            "Epoch 52/200\n",
            "20/20 [==============================] - 0s 4ms/step - loss: 0.9518 - accuracy: 0.5000 - val_loss: 0.8477 - val_accuracy: 0.7500\n",
            "Epoch 53/200\n",
            "20/20 [==============================] - 0s 5ms/step - loss: 0.8908 - accuracy: 0.5417 - val_loss: 0.8380 - val_accuracy: 0.6667\n",
            "Epoch 54/200\n",
            "20/20 [==============================] - 0s 4ms/step - loss: 0.9206 - accuracy: 0.5208 - val_loss: 0.8359 - val_accuracy: 0.7500\n",
            "Epoch 55/200\n",
            "20/20 [==============================] - 0s 4ms/step - loss: 0.8950 - accuracy: 0.5208 - val_loss: 0.8256 - val_accuracy: 0.7500\n",
            "Epoch 56/200\n",
            "20/20 [==============================] - 0s 5ms/step - loss: 0.9735 - accuracy: 0.4583 - val_loss: 0.8258 - val_accuracy: 0.7500\n",
            "Epoch 57/200\n",
            "20/20 [==============================] - 0s 4ms/step - loss: 0.9309 - accuracy: 0.5208 - val_loss: 0.8349 - val_accuracy: 0.8750\n",
            "Epoch 58/200\n",
            "20/20 [==============================] - 0s 4ms/step - loss: 0.9723 - accuracy: 0.4583 - val_loss: 0.8247 - val_accuracy: 0.7917\n",
            "Epoch 59/200\n",
            "20/20 [==============================] - 0s 5ms/step - loss: 0.8987 - accuracy: 0.5104 - val_loss: 0.8241 - val_accuracy: 0.7083\n",
            "Epoch 60/200\n",
            "20/20 [==============================] - 0s 4ms/step - loss: 0.8987 - accuracy: 0.5208 - val_loss: 0.8323 - val_accuracy: 0.7083\n",
            "Epoch 61/200\n",
            "20/20 [==============================] - 0s 5ms/step - loss: 0.8714 - accuracy: 0.5625 - val_loss: 0.8133 - val_accuracy: 0.7500\n",
            "Epoch 62/200\n",
            "20/20 [==============================] - 0s 4ms/step - loss: 0.8990 - accuracy: 0.5208 - val_loss: 0.8083 - val_accuracy: 0.7500\n",
            "Epoch 63/200\n",
            "20/20 [==============================] - 0s 4ms/step - loss: 0.8784 - accuracy: 0.5312 - val_loss: 0.8077 - val_accuracy: 0.8750\n",
            "Epoch 64/200\n",
            "20/20 [==============================] - 0s 5ms/step - loss: 0.9055 - accuracy: 0.5000 - val_loss: 0.7959 - val_accuracy: 0.7917\n",
            "Epoch 65/200\n",
            "20/20 [==============================] - 0s 5ms/step - loss: 0.9246 - accuracy: 0.4896 - val_loss: 0.7978 - val_accuracy: 0.7917\n",
            "Epoch 66/200\n",
            "20/20 [==============================] - 0s 4ms/step - loss: 0.8654 - accuracy: 0.5521 - val_loss: 0.7917 - val_accuracy: 0.7917\n",
            "Epoch 67/200\n",
            "20/20 [==============================] - 0s 4ms/step - loss: 0.8846 - accuracy: 0.5312 - val_loss: 0.7970 - val_accuracy: 0.7917\n",
            "Epoch 68/200\n",
            "20/20 [==============================] - 0s 4ms/step - loss: 0.8808 - accuracy: 0.5521 - val_loss: 0.7893 - val_accuracy: 0.7500\n",
            "Epoch 69/200\n",
            "20/20 [==============================] - 0s 4ms/step - loss: 0.8474 - accuracy: 0.5833 - val_loss: 0.7922 - val_accuracy: 0.7083\n",
            "Epoch 70/200\n",
            "20/20 [==============================] - 0s 4ms/step - loss: 0.8989 - accuracy: 0.5417 - val_loss: 0.7859 - val_accuracy: 0.6667\n",
            "Epoch 71/200\n",
            "20/20 [==============================] - 0s 4ms/step - loss: 0.9119 - accuracy: 0.5208 - val_loss: 0.7836 - val_accuracy: 0.7500\n",
            "Epoch 72/200\n",
            "20/20 [==============================] - 0s 4ms/step - loss: 0.8374 - accuracy: 0.5729 - val_loss: 0.7763 - val_accuracy: 0.6667\n",
            "Epoch 73/200\n",
            "20/20 [==============================] - 0s 4ms/step - loss: 0.8889 - accuracy: 0.5417 - val_loss: 0.7739 - val_accuracy: 0.7917\n",
            "Epoch 74/200\n",
            "20/20 [==============================] - 0s 4ms/step - loss: 0.8516 - accuracy: 0.5625 - val_loss: 0.7707 - val_accuracy: 0.7917\n",
            "Epoch 75/200\n",
            "20/20 [==============================] - 0s 4ms/step - loss: 0.9475 - accuracy: 0.5000 - val_loss: 0.7707 - val_accuracy: 0.8750\n",
            "Epoch 76/200\n",
            "20/20 [==============================] - 0s 4ms/step - loss: 0.8941 - accuracy: 0.5521 - val_loss: 0.7657 - val_accuracy: 0.8333\n",
            "Epoch 77/200\n",
            "20/20 [==============================] - 0s 5ms/step - loss: 0.8896 - accuracy: 0.5521 - val_loss: 0.7711 - val_accuracy: 0.8750\n",
            "Epoch 78/200\n",
            "20/20 [==============================] - 0s 5ms/step - loss: 0.8844 - accuracy: 0.5729 - val_loss: 0.7594 - val_accuracy: 0.8333\n",
            "Epoch 79/200\n",
            "20/20 [==============================] - 0s 4ms/step - loss: 0.9136 - accuracy: 0.5521 - val_loss: 0.7669 - val_accuracy: 0.8750\n",
            "Epoch 80/200\n",
            "20/20 [==============================] - 0s 5ms/step - loss: 0.8631 - accuracy: 0.6146 - val_loss: 0.7637 - val_accuracy: 0.7917\n",
            "Epoch 81/200\n",
            "20/20 [==============================] - 0s 4ms/step - loss: 0.8727 - accuracy: 0.5833 - val_loss: 0.7487 - val_accuracy: 0.7917\n",
            "Epoch 82/200\n",
            "20/20 [==============================] - 0s 3ms/step - loss: 0.8543 - accuracy: 0.6250 - val_loss: 0.7432 - val_accuracy: 0.7500\n",
            "Epoch 83/200\n",
            "20/20 [==============================] - 0s 3ms/step - loss: 0.8668 - accuracy: 0.5938 - val_loss: 0.7368 - val_accuracy: 0.7500\n",
            "Epoch 84/200\n",
            "20/20 [==============================] - 0s 4ms/step - loss: 0.8261 - accuracy: 0.6354 - val_loss: 0.7310 - val_accuracy: 0.8750\n",
            "Epoch 85/200\n",
            "20/20 [==============================] - 0s 4ms/step - loss: 0.8417 - accuracy: 0.5833 - val_loss: 0.7206 - val_accuracy: 0.7917\n",
            "Epoch 86/200\n",
            "20/20 [==============================] - 0s 4ms/step - loss: 0.8377 - accuracy: 0.5729 - val_loss: 0.7192 - val_accuracy: 0.8750\n",
            "Epoch 87/200\n",
            "20/20 [==============================] - 0s 3ms/step - loss: 0.8113 - accuracy: 0.6042 - val_loss: 0.7103 - val_accuracy: 0.8750\n",
            "Epoch 88/200\n",
            "20/20 [==============================] - 0s 4ms/step - loss: 0.8309 - accuracy: 0.5729 - val_loss: 0.7027 - val_accuracy: 0.7917\n",
            "Epoch 89/200\n",
            "20/20 [==============================] - 0s 3ms/step - loss: 0.8095 - accuracy: 0.6250 - val_loss: 0.6995 - val_accuracy: 0.7917\n",
            "Epoch 90/200\n",
            "20/20 [==============================] - 0s 4ms/step - loss: 0.8189 - accuracy: 0.6354 - val_loss: 0.7017 - val_accuracy: 0.7917\n",
            "Epoch 91/200\n",
            "20/20 [==============================] - 0s 4ms/step - loss: 0.8176 - accuracy: 0.6562 - val_loss: 0.7031 - val_accuracy: 0.8750\n",
            "Epoch 92/200\n",
            "20/20 [==============================] - 0s 4ms/step - loss: 0.7941 - accuracy: 0.6875 - val_loss: 0.6931 - val_accuracy: 0.7917\n",
            "Epoch 93/200\n",
            "20/20 [==============================] - 0s 4ms/step - loss: 0.8254 - accuracy: 0.6979 - val_loss: 0.6875 - val_accuracy: 0.7917\n",
            "Epoch 94/200\n",
            "20/20 [==============================] - 0s 4ms/step - loss: 0.7881 - accuracy: 0.7188 - val_loss: 0.6844 - val_accuracy: 0.7917\n",
            "Epoch 95/200\n",
            "20/20 [==============================] - 0s 4ms/step - loss: 0.8216 - accuracy: 0.6979 - val_loss: 0.6850 - val_accuracy: 0.8333\n",
            "Epoch 96/200\n",
            "20/20 [==============================] - 0s 5ms/step - loss: 0.8078 - accuracy: 0.6979 - val_loss: 0.6803 - val_accuracy: 0.9167\n",
            "Epoch 97/200\n",
            "20/20 [==============================] - 0s 4ms/step - loss: 0.7857 - accuracy: 0.7917 - val_loss: 0.6620 - val_accuracy: 0.8750\n",
            "Epoch 98/200\n",
            "20/20 [==============================] - 0s 4ms/step - loss: 0.7910 - accuracy: 0.7292 - val_loss: 0.6561 - val_accuracy: 0.8750\n",
            "Epoch 99/200\n",
            "20/20 [==============================] - 0s 5ms/step - loss: 0.7614 - accuracy: 0.7500 - val_loss: 0.6551 - val_accuracy: 0.8750\n",
            "Epoch 100/200\n",
            "20/20 [==============================] - 0s 5ms/step - loss: 0.7582 - accuracy: 0.7396 - val_loss: 0.6499 - val_accuracy: 0.8750\n",
            "Epoch 101/200\n",
            "20/20 [==============================] - 0s 5ms/step - loss: 0.7341 - accuracy: 0.8021 - val_loss: 0.6403 - val_accuracy: 0.8750\n",
            "Epoch 102/200\n",
            "20/20 [==============================] - 0s 5ms/step - loss: 0.7840 - accuracy: 0.7188 - val_loss: 0.6372 - val_accuracy: 0.9167\n",
            "Epoch 103/200\n",
            "20/20 [==============================] - 0s 4ms/step - loss: 0.7812 - accuracy: 0.7708 - val_loss: 0.6264 - val_accuracy: 0.8750\n",
            "Epoch 104/200\n",
            "20/20 [==============================] - 0s 5ms/step - loss: 0.7409 - accuracy: 0.8125 - val_loss: 0.6226 - val_accuracy: 0.8333\n",
            "Epoch 105/200\n",
            "20/20 [==============================] - 0s 4ms/step - loss: 0.7330 - accuracy: 0.7396 - val_loss: 0.6228 - val_accuracy: 0.8750\n",
            "Epoch 106/200\n",
            "20/20 [==============================] - 0s 5ms/step - loss: 0.7456 - accuracy: 0.7188 - val_loss: 0.6255 - val_accuracy: 0.9167\n",
            "Epoch 107/200\n",
            "20/20 [==============================] - 0s 4ms/step - loss: 0.7443 - accuracy: 0.8021 - val_loss: 0.6182 - val_accuracy: 0.9167\n",
            "Epoch 108/200\n",
            "20/20 [==============================] - 0s 5ms/step - loss: 0.7076 - accuracy: 0.7812 - val_loss: 0.6071 - val_accuracy: 0.8750\n",
            "Epoch 109/200\n",
            "20/20 [==============================] - 0s 3ms/step - loss: 0.6867 - accuracy: 0.7917 - val_loss: 0.6038 - val_accuracy: 0.9167\n",
            "Epoch 110/200\n",
            "20/20 [==============================] - 0s 3ms/step - loss: 0.7184 - accuracy: 0.7292 - val_loss: 0.5966 - val_accuracy: 0.9167\n",
            "Epoch 111/200\n",
            "20/20 [==============================] - 0s 4ms/step - loss: 0.6463 - accuracy: 0.7812 - val_loss: 0.5945 - val_accuracy: 0.8750\n",
            "Epoch 112/200\n",
            "20/20 [==============================] - 0s 4ms/step - loss: 0.6992 - accuracy: 0.7604 - val_loss: 0.6010 - val_accuracy: 0.9167\n",
            "Epoch 113/200\n",
            "20/20 [==============================] - 0s 4ms/step - loss: 0.6444 - accuracy: 0.8229 - val_loss: 0.5834 - val_accuracy: 0.8750\n",
            "Epoch 114/200\n",
            "20/20 [==============================] - 0s 3ms/step - loss: 0.6315 - accuracy: 0.8125 - val_loss: 0.5790 - val_accuracy: 0.8750\n",
            "Epoch 115/200\n",
            "20/20 [==============================] - 0s 5ms/step - loss: 0.7254 - accuracy: 0.7500 - val_loss: 0.5785 - val_accuracy: 0.9167\n",
            "Epoch 116/200\n",
            "20/20 [==============================] - 0s 5ms/step - loss: 0.6151 - accuracy: 0.8438 - val_loss: 0.5695 - val_accuracy: 0.8750\n",
            "Epoch 117/200\n",
            "20/20 [==============================] - 0s 5ms/step - loss: 0.6423 - accuracy: 0.8229 - val_loss: 0.5684 - val_accuracy: 0.8333\n",
            "Epoch 118/200\n",
            "20/20 [==============================] - 0s 4ms/step - loss: 0.6339 - accuracy: 0.7708 - val_loss: 0.5657 - val_accuracy: 0.8333\n",
            "Epoch 119/200\n",
            "20/20 [==============================] - 0s 4ms/step - loss: 0.6682 - accuracy: 0.7812 - val_loss: 0.5596 - val_accuracy: 0.8750\n",
            "Epoch 120/200\n",
            "20/20 [==============================] - 0s 4ms/step - loss: 0.6141 - accuracy: 0.8333 - val_loss: 0.5498 - val_accuracy: 0.9167\n",
            "Epoch 121/200\n",
            "20/20 [==============================] - 0s 5ms/step - loss: 0.5827 - accuracy: 0.8125 - val_loss: 0.5497 - val_accuracy: 0.8333\n",
            "Epoch 122/200\n",
            "20/20 [==============================] - 0s 4ms/step - loss: 0.6987 - accuracy: 0.7708 - val_loss: 0.5413 - val_accuracy: 0.9167\n",
            "Epoch 123/200\n",
            "20/20 [==============================] - 0s 4ms/step - loss: 0.6458 - accuracy: 0.7500 - val_loss: 0.5377 - val_accuracy: 0.9167\n",
            "Epoch 124/200\n",
            "20/20 [==============================] - 0s 3ms/step - loss: 0.6259 - accuracy: 0.7708 - val_loss: 0.5359 - val_accuracy: 0.9167\n",
            "Epoch 125/200\n",
            "20/20 [==============================] - 0s 5ms/step - loss: 0.6127 - accuracy: 0.8542 - val_loss: 0.5315 - val_accuracy: 0.8750\n",
            "Epoch 126/200\n",
            "20/20 [==============================] - 0s 4ms/step - loss: 0.6192 - accuracy: 0.7708 - val_loss: 0.5303 - val_accuracy: 0.9167\n",
            "Epoch 127/200\n",
            "20/20 [==============================] - 0s 4ms/step - loss: 0.6396 - accuracy: 0.7708 - val_loss: 0.5314 - val_accuracy: 0.9167\n",
            "Epoch 128/200\n",
            "20/20 [==============================] - 0s 4ms/step - loss: 0.6205 - accuracy: 0.8021 - val_loss: 0.5243 - val_accuracy: 0.9167\n",
            "Epoch 129/200\n",
            "20/20 [==============================] - 0s 4ms/step - loss: 0.6444 - accuracy: 0.7500 - val_loss: 0.5230 - val_accuracy: 0.9167\n",
            "Epoch 130/200\n",
            "20/20 [==============================] - 0s 4ms/step - loss: 0.6171 - accuracy: 0.8021 - val_loss: 0.5203 - val_accuracy: 0.9167\n",
            "Epoch 131/200\n",
            "20/20 [==============================] - 0s 4ms/step - loss: 0.6351 - accuracy: 0.8021 - val_loss: 0.5153 - val_accuracy: 0.9167\n",
            "Epoch 132/200\n",
            "20/20 [==============================] - 0s 4ms/step - loss: 0.6455 - accuracy: 0.7500 - val_loss: 0.5214 - val_accuracy: 0.9167\n",
            "Epoch 133/200\n",
            "20/20 [==============================] - 0s 4ms/step - loss: 0.6023 - accuracy: 0.8125 - val_loss: 0.5134 - val_accuracy: 0.9167\n",
            "Epoch 134/200\n",
            "20/20 [==============================] - 0s 5ms/step - loss: 0.6090 - accuracy: 0.7917 - val_loss: 0.5077 - val_accuracy: 0.9167\n",
            "Epoch 135/200\n",
            "20/20 [==============================] - 0s 4ms/step - loss: 0.5983 - accuracy: 0.8125 - val_loss: 0.5066 - val_accuracy: 0.9167\n",
            "Epoch 136/200\n",
            "20/20 [==============================] - 0s 4ms/step - loss: 0.5568 - accuracy: 0.8125 - val_loss: 0.4967 - val_accuracy: 0.8750\n",
            "Epoch 137/200\n",
            "20/20 [==============================] - 0s 5ms/step - loss: 0.6479 - accuracy: 0.7396 - val_loss: 0.4973 - val_accuracy: 0.9167\n",
            "Epoch 138/200\n",
            "20/20 [==============================] - 0s 4ms/step - loss: 0.5605 - accuracy: 0.8125 - val_loss: 0.4959 - val_accuracy: 0.9167\n",
            "Epoch 139/200\n",
            "20/20 [==============================] - 0s 3ms/step - loss: 0.6098 - accuracy: 0.7396 - val_loss: 0.4905 - val_accuracy: 0.8750\n",
            "Epoch 140/200\n",
            "20/20 [==============================] - 0s 4ms/step - loss: 0.6223 - accuracy: 0.7604 - val_loss: 0.4935 - val_accuracy: 0.9167\n",
            "Epoch 141/200\n",
            "20/20 [==============================] - 0s 4ms/step - loss: 0.6340 - accuracy: 0.7604 - val_loss: 0.4849 - val_accuracy: 0.9167\n",
            "Epoch 142/200\n",
            "20/20 [==============================] - 0s 4ms/step - loss: 0.5903 - accuracy: 0.7812 - val_loss: 0.4814 - val_accuracy: 0.9167\n",
            "Epoch 143/200\n",
            "20/20 [==============================] - 0s 4ms/step - loss: 0.5822 - accuracy: 0.8021 - val_loss: 0.4737 - val_accuracy: 0.9167\n",
            "Epoch 144/200\n",
            "20/20 [==============================] - 0s 5ms/step - loss: 0.5786 - accuracy: 0.7708 - val_loss: 0.4703 - val_accuracy: 0.9167\n",
            "Epoch 145/200\n",
            "20/20 [==============================] - 0s 5ms/step - loss: 0.5632 - accuracy: 0.8542 - val_loss: 0.4674 - val_accuracy: 0.9167\n",
            "Epoch 146/200\n",
            "20/20 [==============================] - 0s 4ms/step - loss: 0.6386 - accuracy: 0.7604 - val_loss: 0.4641 - val_accuracy: 0.9167\n",
            "Epoch 147/200\n",
            "20/20 [==============================] - 0s 5ms/step - loss: 0.5493 - accuracy: 0.8333 - val_loss: 0.4615 - val_accuracy: 0.9167\n",
            "Epoch 148/200\n",
            "20/20 [==============================] - 0s 4ms/step - loss: 0.5153 - accuracy: 0.8438 - val_loss: 0.4568 - val_accuracy: 0.9167\n",
            "Epoch 149/200\n",
            "20/20 [==============================] - 0s 4ms/step - loss: 0.6000 - accuracy: 0.7917 - val_loss: 0.4571 - val_accuracy: 0.9167\n",
            "Epoch 150/200\n",
            "20/20 [==============================] - 0s 3ms/step - loss: 0.5928 - accuracy: 0.7812 - val_loss: 0.4603 - val_accuracy: 0.9167\n",
            "Epoch 151/200\n",
            "20/20 [==============================] - 0s 3ms/step - loss: 0.5752 - accuracy: 0.7708 - val_loss: 0.3848 - val_accuracy: 0.9167\n",
            "Epoch 152/200\n",
            "20/20 [==============================] - 0s 4ms/step - loss: 0.5452 - accuracy: 0.7604 - val_loss: 0.3470 - val_accuracy: 0.9167\n",
            "Epoch 153/200\n",
            "20/20 [==============================] - 0s 4ms/step - loss: 0.4823 - accuracy: 0.7708 - val_loss: 0.3448 - val_accuracy: 0.9167\n",
            "Epoch 154/200\n",
            "20/20 [==============================] - 0s 4ms/step - loss: 0.5706 - accuracy: 0.7292 - val_loss: 0.3366 - val_accuracy: 0.9167\n",
            "Epoch 155/200\n",
            "20/20 [==============================] - 0s 5ms/step - loss: 0.5676 - accuracy: 0.7292 - val_loss: 0.3311 - val_accuracy: 0.9167\n",
            "Epoch 156/200\n",
            "20/20 [==============================] - 0s 3ms/step - loss: 0.4069 - accuracy: 0.8646 - val_loss: 0.3289 - val_accuracy: 0.9167\n",
            "Epoch 157/200\n",
            "20/20 [==============================] - 0s 6ms/step - loss: 0.4532 - accuracy: 0.8125 - val_loss: 0.3223 - val_accuracy: 0.9167\n",
            "Epoch 158/200\n",
            "20/20 [==============================] - 0s 3ms/step - loss: 0.4503 - accuracy: 0.8125 - val_loss: 0.3181 - val_accuracy: 0.9167\n",
            "Epoch 159/200\n",
            "20/20 [==============================] - 0s 3ms/step - loss: 0.4613 - accuracy: 0.8438 - val_loss: 0.3132 - val_accuracy: 0.9167\n",
            "Epoch 160/200\n",
            "20/20 [==============================] - 0s 4ms/step - loss: 0.4824 - accuracy: 0.8333 - val_loss: 0.3054 - val_accuracy: 0.9167\n",
            "Epoch 161/200\n",
            "20/20 [==============================] - 0s 4ms/step - loss: 0.4407 - accuracy: 0.8542 - val_loss: 0.3000 - val_accuracy: 0.9167\n",
            "Epoch 162/200\n",
            "20/20 [==============================] - 0s 4ms/step - loss: 0.4255 - accuracy: 0.8333 - val_loss: 0.2957 - val_accuracy: 0.9167\n",
            "Epoch 163/200\n",
            "20/20 [==============================] - 0s 4ms/step - loss: 0.5059 - accuracy: 0.7708 - val_loss: 0.2958 - val_accuracy: 0.9167\n",
            "Epoch 164/200\n",
            "20/20 [==============================] - 0s 4ms/step - loss: 0.5468 - accuracy: 0.7500 - val_loss: 0.2990 - val_accuracy: 0.9167\n",
            "Epoch 165/200\n",
            "20/20 [==============================] - 0s 4ms/step - loss: 0.4576 - accuracy: 0.8021 - val_loss: 0.2993 - val_accuracy: 0.9167\n",
            "Epoch 166/200\n",
            "20/20 [==============================] - 0s 3ms/step - loss: 0.4570 - accuracy: 0.7917 - val_loss: 0.2972 - val_accuracy: 0.9167\n",
            "Epoch 167/200\n",
            "20/20 [==============================] - 0s 4ms/step - loss: 0.5232 - accuracy: 0.7917 - val_loss: 0.2923 - val_accuracy: 0.9167\n",
            "Epoch 168/200\n",
            "20/20 [==============================] - 0s 5ms/step - loss: 0.4742 - accuracy: 0.8021 - val_loss: 0.2933 - val_accuracy: 0.9167\n",
            "Epoch 169/200\n",
            "20/20 [==============================] - 0s 5ms/step - loss: 0.4341 - accuracy: 0.8438 - val_loss: 0.3169 - val_accuracy: 0.9583\n",
            "Epoch 170/200\n",
            "20/20 [==============================] - 0s 5ms/step - loss: 0.4705 - accuracy: 0.8021 - val_loss: 0.2908 - val_accuracy: 0.9167\n",
            "Epoch 171/200\n",
            "20/20 [==============================] - 0s 3ms/step - loss: 0.4698 - accuracy: 0.8229 - val_loss: 0.2873 - val_accuracy: 0.9167\n",
            "Epoch 172/200\n",
            "20/20 [==============================] - 0s 4ms/step - loss: 0.5141 - accuracy: 0.8125 - val_loss: 0.2829 - val_accuracy: 0.9167\n",
            "Epoch 173/200\n",
            "20/20 [==============================] - 0s 4ms/step - loss: 0.4078 - accuracy: 0.8438 - val_loss: 0.2851 - val_accuracy: 0.9583\n",
            "Epoch 174/200\n",
            "20/20 [==============================] - 0s 4ms/step - loss: 0.5296 - accuracy: 0.7812 - val_loss: 0.2819 - val_accuracy: 0.9167\n",
            "Epoch 175/200\n",
            "20/20 [==============================] - 0s 4ms/step - loss: 0.4240 - accuracy: 0.8646 - val_loss: 0.2884 - val_accuracy: 0.9167\n",
            "Epoch 176/200\n",
            "20/20 [==============================] - 0s 3ms/step - loss: 0.4549 - accuracy: 0.8333 - val_loss: 0.2763 - val_accuracy: 0.9167\n",
            "Epoch 177/200\n",
            "20/20 [==============================] - 0s 4ms/step - loss: 0.4683 - accuracy: 0.8542 - val_loss: 0.2718 - val_accuracy: 0.9167\n",
            "Epoch 178/200\n",
            "20/20 [==============================] - 0s 4ms/step - loss: 0.5231 - accuracy: 0.7396 - val_loss: 0.2712 - val_accuracy: 0.9167\n",
            "Epoch 179/200\n",
            "20/20 [==============================] - 0s 5ms/step - loss: 0.4647 - accuracy: 0.8125 - val_loss: 0.2682 - val_accuracy: 0.9167\n",
            "Epoch 180/200\n",
            "20/20 [==============================] - 0s 4ms/step - loss: 0.5000 - accuracy: 0.7812 - val_loss: 0.2711 - val_accuracy: 0.9167\n",
            "Epoch 181/200\n",
            "20/20 [==============================] - 0s 5ms/step - loss: 0.4511 - accuracy: 0.8438 - val_loss: 0.2671 - val_accuracy: 0.9167\n",
            "Epoch 182/200\n",
            "20/20 [==============================] - 0s 3ms/step - loss: 0.4624 - accuracy: 0.7917 - val_loss: 0.2629 - val_accuracy: 0.9167\n",
            "Epoch 183/200\n",
            "20/20 [==============================] - 0s 4ms/step - loss: 0.3798 - accuracy: 0.8750 - val_loss: 0.2697 - val_accuracy: 0.9167\n",
            "Epoch 184/200\n",
            "20/20 [==============================] - 0s 3ms/step - loss: 0.4483 - accuracy: 0.7917 - val_loss: 0.2644 - val_accuracy: 0.9167\n",
            "Epoch 185/200\n",
            "20/20 [==============================] - 0s 5ms/step - loss: 0.4583 - accuracy: 0.8021 - val_loss: 0.2606 - val_accuracy: 0.9167\n",
            "Epoch 186/200\n",
            "20/20 [==============================] - 0s 4ms/step - loss: 0.5243 - accuracy: 0.7604 - val_loss: 0.2604 - val_accuracy: 0.9167\n",
            "Epoch 187/200\n",
            "20/20 [==============================] - 0s 4ms/step - loss: 0.4106 - accuracy: 0.8333 - val_loss: 0.2622 - val_accuracy: 0.9167\n",
            "Epoch 188/200\n",
            "20/20 [==============================] - 0s 4ms/step - loss: 0.4701 - accuracy: 0.7708 - val_loss: 0.2862 - val_accuracy: 0.9167\n",
            "Epoch 189/200\n",
            "20/20 [==============================] - 0s 5ms/step - loss: 0.4014 - accuracy: 0.8438 - val_loss: 0.2650 - val_accuracy: 0.9167\n",
            "Epoch 190/200\n",
            "20/20 [==============================] - 0s 4ms/step - loss: 0.4255 - accuracy: 0.8333 - val_loss: 0.2593 - val_accuracy: 0.9167\n",
            "Epoch 191/200\n",
            "20/20 [==============================] - 0s 5ms/step - loss: 0.4314 - accuracy: 0.8542 - val_loss: 0.2564 - val_accuracy: 0.9167\n",
            "Epoch 192/200\n",
            "20/20 [==============================] - 0s 5ms/step - loss: 0.3877 - accuracy: 0.8438 - val_loss: 0.2575 - val_accuracy: 0.9583\n",
            "Epoch 193/200\n",
            "20/20 [==============================] - 0s 5ms/step - loss: 0.5107 - accuracy: 0.7708 - val_loss: 0.2533 - val_accuracy: 0.9167\n",
            "Epoch 194/200\n",
            "20/20 [==============================] - 0s 4ms/step - loss: 0.4789 - accuracy: 0.7708 - val_loss: 0.2584 - val_accuracy: 0.9167\n",
            "Epoch 195/200\n",
            "20/20 [==============================] - 0s 4ms/step - loss: 0.4763 - accuracy: 0.8438 - val_loss: 0.2659 - val_accuracy: 1.0000\n",
            "Epoch 196/200\n",
            "20/20 [==============================] - 0s 4ms/step - loss: 0.4127 - accuracy: 0.8333 - val_loss: 0.2580 - val_accuracy: 0.9167\n",
            "Epoch 197/200\n",
            "20/20 [==============================] - 0s 4ms/step - loss: 0.4661 - accuracy: 0.8021 - val_loss: 0.2546 - val_accuracy: 0.9167\n",
            "Epoch 198/200\n",
            "20/20 [==============================] - 0s 5ms/step - loss: 0.5338 - accuracy: 0.7917 - val_loss: 0.2544 - val_accuracy: 0.9167\n",
            "Epoch 199/200\n",
            "20/20 [==============================] - 0s 4ms/step - loss: 0.4318 - accuracy: 0.8542 - val_loss: 0.2520 - val_accuracy: 0.9167\n",
            "Epoch 200/200\n",
            "20/20 [==============================] - 0s 4ms/step - loss: 0.3662 - accuracy: 0.8438 - val_loss: 0.2490 - val_accuracy: 0.9167\n"
          ]
        }
      ],
      "source": [
        "# Train the model\n",
        "history = model.fit(train_x , train_y , batch_size=5 , epochs=200 , validation_split=0.2)"
      ]
    },
    {
      "cell_type": "markdown",
      "metadata": {
        "id": "WLm_5Cw5hNPF"
      },
      "source": [
        "## Question 4 :\n",
        "Evaluate model on test data"
      ]
    },
    {
      "cell_type": "code",
      "execution_count": 21,
      "metadata": {
        "id": "1xGlW0qBhNPG",
        "outputId": "2b0a6c93-1690-4c0b-81aa-6892bbd472e4",
        "colab": {
          "base_uri": "https://localhost:8080/"
        }
      },
      "outputs": [
        {
          "output_type": "stream",
          "name": "stdout",
          "text": [
            "1/1 [==============================] - 0s 24ms/step - loss: 0.2468 - accuracy: 0.9667\n",
            "Final test set loss: 0.246847\n",
            "Final test set accuracy: 0.966667\n"
          ]
        }
      ],
      "source": [
        "# Test on unseen data\n",
        "results = model.evaluate(test_x, test_y)\n",
        "\n",
        "print('Final test set loss: {:4f}'.format(results[0]))\n",
        "print('Final test set accuracy: {:4f}'.format(results[1]))"
      ]
    },
    {
      "cell_type": "code",
      "source": [
        ""
      ],
      "metadata": {
        "id": "STn80tcXmy6k"
      },
      "execution_count": null,
      "outputs": []
    }
  ],
  "metadata": {
    "kernelspec": {
      "display_name": "tensorflow",
      "language": "python",
      "name": "tensorflow"
    },
    "language_info": {
      "codemirror_mode": {
        "name": "ipython",
        "version": 3
      },
      "file_extension": ".py",
      "mimetype": "text/x-python",
      "name": "python",
      "nbconvert_exporter": "python",
      "pygments_lexer": "ipython3",
      "version": "3.6.8"
    },
    "colab": {
      "name": "ex1-mlp-iris.ipynb",
      "provenance": [],
      "include_colab_link": true
    }
  },
  "nbformat": 4,
  "nbformat_minor": 0
}