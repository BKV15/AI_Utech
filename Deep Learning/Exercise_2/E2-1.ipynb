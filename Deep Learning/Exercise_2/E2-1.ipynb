{
  "cells": [
    {
      "cell_type": "markdown",
      "metadata": {
        "id": "view-in-github",
        "colab_type": "text"
      },
      "source": [
        "<a href=\"https://colab.research.google.com/github/BKV15/AI_Utech/blob/main/Deep%20Learning/Exercise_2/E2-1.ipynb\" target=\"_parent\"><img src=\"https://colab.research.google.com/assets/colab-badge.svg\" alt=\"Open In Colab\"/></a>"
      ]
    },
    {
      "cell_type": "markdown",
      "metadata": {
        "id": "6-mVwkWbPZA9"
      },
      "source": [
        "# Exercise 2 - 1 : Cifar10 classification with convultional neural network"
      ]
    },
    {
      "cell_type": "markdown",
      "metadata": {
        "id": "znPo07NgPZBE"
      },
      "source": [
        "## `Importing libraries`"
      ]
    },
    {
      "cell_type": "code",
      "execution_count": 1,
      "metadata": {
        "id": "tOfK-Hr6PZBF"
      },
      "outputs": [],
      "source": [
        "from tensorflow import keras\n",
        "from keras.models import Sequential\n",
        "from keras.layers import Dense, Flatten, Dropout\n",
        "from keras.layers import Conv2D, MaxPooling2D\n",
        "from keras.datasets import cifar10\n",
        "import numpy as np\n",
        "import matplotlib.pyplot as plt"
      ]
    },
    {
      "cell_type": "markdown",
      "source": [
        "## `Loading Cifar10 dataset`"
      ],
      "metadata": {
        "id": "iQfqfltyTjm3"
      }
    },
    {
      "cell_type": "code",
      "execution_count": 2,
      "metadata": {
        "id": "-O-O9tiyPZBH"
      },
      "outputs": [],
      "source": [
        "(x_train_raw, y_train_raw), (x_test_raw, y_test_raw) = cifar10.load_data()"
      ]
    },
    {
      "cell_type": "markdown",
      "source": [
        "## ` Sample Picture`"
      ],
      "metadata": {
        "id": "OuIl9q_XTvsP"
      }
    },
    {
      "cell_type": "code",
      "execution_count": 3,
      "metadata": {
        "id": "_wweiuzJPZBI",
        "outputId": "674be937-ce64-4937-938c-447ad818e191",
        "colab": {
          "base_uri": "https://localhost:8080/",
          "height": 283
        }
      },
      "outputs": [
        {
          "output_type": "stream",
          "name": "stdout",
          "text": [
            "[8]\n"
          ]
        },
        {
          "output_type": "display_data",
          "data": {
            "image/png": "[encoded data removed]",
            "text/plain": [
              "<Figure size 432x288 with 1 Axes>"
            ]
          },
          "metadata": {
            "needs_background": "light"
          }
        }
      ],
      "source": [
        "sample = 62\n",
        "plt.imshow(x_train_raw[sample])\n",
        "print(y_train_raw[sample])"
      ]
    },
    {
      "cell_type": "markdown",
      "source": [
        "## ` Question 1 :`\n",
        "Normalizing images channel values to be between 0-1\n"
      ],
      "metadata": {
        "id": "JRjp1I1mUhNf"
      }
    },
    {
      "cell_type": "code",
      "execution_count": 4,
      "metadata": {
        "id": "_lX61YOdPZBJ"
      },
      "outputs": [],
      "source": [
        "x_train = x_train_raw.astype('float32')\n",
        "x_train[:,:,:] /= 255. \n",
        "x_test = x_test_raw.astype('float32')\n",
        "x_test[:,:,:] /= 255. "
      ]
    },
    {
      "cell_type": "markdown",
      "source": [
        "## ` Question 2 :`\n",
        "Labels need to be in OneHotEncoded format"
      ],
      "metadata": {
        "id": "V5zHHPW2VJ3n"
      }
    },
    {
      "cell_type": "code",
      "execution_count": 6,
      "metadata": {
        "id": "B5cvWq4SPZBL",
        "outputId": "b8de17da-b1ba-4f8c-90e8-e8ad0103a7b2",
        "colab": {
          "base_uri": "https://localhost:8080/"
        }
      },
      "outputs": [
        {
          "output_type": "execute_result",
          "data": {
            "text/plain": [
              "array([[6],\n",
              "       [9],\n",
              "       [9],\n",
              "       [4],\n",
              "       [1],\n",
              "       [1],\n",
              "       [2],\n",
              "       [7],\n",
              "       [8],\n",
              "       [3]], dtype=uint8)"
            ]
          },
          "metadata": {},
          "execution_count": 6
        }
      ],
      "source": [
        "y_train_raw[0:10]"
      ]
    },
    {
      "cell_type": "code",
      "execution_count": 7,
      "metadata": {
        "id": "0ddAgTNGPZBL"
      },
      "outputs": [],
      "source": [
        "y_train = keras.utils.to_categorical(y_train_raw , num_classes=10)\n",
        "y_test =  keras.utils.to_categorical(y_test_raw , num_classes=10)"
      ]
    },
    {
      "cell_type": "code",
      "execution_count": 8,
      "metadata": {
        "id": "5cprGg4mPZBM",
        "outputId": "3056e5ef-6bfa-4d89-be89-cd4ecd51660a",
        "colab": {
          "base_uri": "https://localhost:8080/"
        }
      },
      "outputs": [
        {
          "output_type": "execute_result",
          "data": {
            "text/plain": [
              "array([[0., 0., 0., 0., 0., 0., 1., 0., 0., 0.],\n",
              "       [0., 0., 0., 0., 0., 0., 0., 0., 0., 1.],\n",
              "       [0., 0., 0., 0., 0., 0., 0., 0., 0., 1.],\n",
              "       [0., 0., 0., 0., 1., 0., 0., 0., 0., 0.],\n",
              "       [0., 1., 0., 0., 0., 0., 0., 0., 0., 0.],\n",
              "       [0., 1., 0., 0., 0., 0., 0., 0., 0., 0.],\n",
              "       [0., 0., 1., 0., 0., 0., 0., 0., 0., 0.],\n",
              "       [0., 0., 0., 0., 0., 0., 0., 1., 0., 0.],\n",
              "       [0., 0., 0., 0., 0., 0., 0., 0., 1., 0.],\n",
              "       [0., 0., 0., 1., 0., 0., 0., 0., 0., 0.]], dtype=float32)"
            ]
          },
          "metadata": {},
          "execution_count": 8
        }
      ],
      "source": [
        "y_train[0:10]"
      ]
    },
    {
      "cell_type": "markdown",
      "source": [
        "## ` Question 3 :`\n",
        "Build a convultional neural network with this architecture :\n",
        "* A convultional layer with `32` `3x3` filter and ReLU activation function\n",
        "* A pooling layer with size `2x2`\n",
        "* A convultional layer with `32` `3x3` filter and ReLU activation function\n",
        "* A pooling layer with size `2x2`\n",
        "* A convultional layer with `64` `3x3` filter and ReLU activation function\n",
        "* A pooling layer with size `2x2`\n",
        "* A flatten layer. why ?\n",
        "* A dropout layer with `0.5` rate\n",
        "* A softmax layer ? How many neuron do think this layer need to calculate output probablites ?"
      ],
      "metadata": {
        "id": "xUSPblcpVny4"
      }
    },
    {
      "cell_type": "code",
      "execution_count": 28,
      "metadata": {
        "id": "dUgfF3e2PZBM",
        "outputId": "2727fe0f-2ada-42eb-b921-0e0c74f60ff2",
        "colab": {
          "base_uri": "https://localhost:8080/"
        }
      },
      "outputs": [
        {
          "output_type": "stream",
          "name": "stdout",
          "text": [
            "Model: \"sequential_2\"\n",
            "_________________________________________________________________\n",
            " Layer (type)                Output Shape              Param #   \n",
            "=================================================================\n",
            " conv2d_3 (Conv2D)           (None, 30, 30, 32)        896       \n",
            "                                                                 \n",
            " max_pooling2d_3 (MaxPooling  (None, 15, 15, 32)       0         \n",
            " 2D)                                                             \n",
            "                                                                 \n",
            " conv2d_4 (Conv2D)           (None, 13, 13, 32)        9248      \n",
            "                                                                 \n",
            " max_pooling2d_4 (MaxPooling  (None, 6, 6, 32)         0         \n",
            " 2D)                                                             \n",
            "                                                                 \n",
            " conv2d_5 (Conv2D)           (None, 4, 4, 64)          18496     \n",
            "                                                                 \n",
            " max_pooling2d_5 (MaxPooling  (None, 2, 2, 64)         0         \n",
            " 2D)                                                             \n",
            "                                                                 \n",
            " flatten (Flatten)           (None, 256)               0         \n",
            "                                                                 \n",
            " dropout (Dropout)           (None, 256)               0         \n",
            "                                                                 \n",
            " dense (Dense)               (None, 10)                2570      \n",
            "                                                                 \n",
            "=================================================================\n",
            "Total params: 31,210\n",
            "Trainable params: 31,210\n",
            "Non-trainable params: 0\n",
            "_________________________________________________________________\n"
          ]
        }
      ],
      "source": [
        "model = Sequential()\n",
        "model.add(Conv2D(32 , (3,3) , activation='relu' , input_shape=(32,32,3)))\n",
        "model.add(MaxPooling2D((2,2)))\n",
        "model.add(Conv2D(32 , (3,3) , activation='relu'))\n",
        "model.add(MaxPooling2D((2,2)))\n",
        "model.add(Conv2D(64 , (3,3) , activation='relu'))\n",
        "model.add(MaxPooling2D((2,2)))\n",
        "model.add(Flatten())\n",
        "model.add(Dropout(0.5))\n",
        "model.add(Dense(10 , activation='softmax'))\n",
        "\n",
        "model.summary()"
      ]
    },
    {
      "cell_type": "markdown",
      "metadata": {
        "id": "k8ESeGQ4PZBN"
      },
      "source": [
        "## ` Question 4 :`\n",
        "Compile the model\n"
      ]
    },
    {
      "cell_type": "code",
      "execution_count": 29,
      "metadata": {
        "id": "Ow8XkV1HPZBN"
      },
      "outputs": [],
      "source": [
        "opt_rms = keras.optimizers.RMSprop(learning_rate=0.001,decay=1e-6)\n",
        "model.compile(optimizer=opt_rms , loss='categorical_crossentropy' , metrics=['accuracy'])"
      ]
    },
    {
      "cell_type": "markdown",
      "source": [
        "## ` Question 5 :`\n",
        "Train the model with batch size of `64` for `25` epoch. Use test sets for validation"
      ],
      "metadata": {
        "id": "4rDZ0UPEYN1n"
      }
    },
    {
      "cell_type": "code",
      "execution_count": 30,
      "metadata": {
        "id": "C6dj8XfZPZBO",
        "outputId": "fe6687fb-4911-42b3-b93c-5c85c0aa87bb",
        "colab": {
          "base_uri": "https://localhost:8080/"
        }
      },
      "outputs": [
        {
          "output_type": "stream",
          "name": "stdout",
          "text": [
            "Epoch 1/25\n",
            "782/782 [==============================] - 18s 11ms/step - loss: 1.8288 - accuracy: 0.3254 - val_loss: 1.5440 - val_accuracy: 0.4386\n",
            "Epoch 2/25\n",
            "782/782 [==============================] - 8s 10ms/step - loss: 1.5276 - accuracy: 0.4460 - val_loss: 1.6752 - val_accuracy: 0.4154\n",
            "Epoch 3/25\n",
            "782/782 [==============================] - 9s 11ms/step - loss: 1.4081 - accuracy: 0.4938 - val_loss: 1.5199 - val_accuracy: 0.4558\n",
            "Epoch 4/25\n",
            "782/782 [==============================] - 8s 10ms/step - loss: 1.3172 - accuracy: 0.5303 - val_loss: 1.2316 - val_accuracy: 0.5786\n",
            "Epoch 5/25\n",
            "782/782 [==============================] - 8s 10ms/step - loss: 1.2603 - accuracy: 0.5519 - val_loss: 1.2978 - val_accuracy: 0.5518\n",
            "Epoch 6/25\n",
            "782/782 [==============================] - 8s 10ms/step - loss: 1.2160 - accuracy: 0.5704 - val_loss: 1.1709 - val_accuracy: 0.5843\n",
            "Epoch 7/25\n",
            "782/782 [==============================] - 8s 10ms/step - loss: 1.1741 - accuracy: 0.5831 - val_loss: 1.2624 - val_accuracy: 0.5651\n",
            "Epoch 8/25\n",
            "782/782 [==============================] - 8s 10ms/step - loss: 1.1383 - accuracy: 0.5997 - val_loss: 1.0724 - val_accuracy: 0.6255\n",
            "Epoch 9/25\n",
            "782/782 [==============================] - 8s 10ms/step - loss: 1.1144 - accuracy: 0.6086 - val_loss: 1.0535 - val_accuracy: 0.6349\n",
            "Epoch 10/25\n",
            "782/782 [==============================] - 8s 10ms/step - loss: 1.0852 - accuracy: 0.6176 - val_loss: 1.2125 - val_accuracy: 0.5723\n",
            "Epoch 11/25\n",
            "782/782 [==============================] - 9s 11ms/step - loss: 1.0649 - accuracy: 0.6244 - val_loss: 1.1258 - val_accuracy: 0.6151\n",
            "Epoch 12/25\n",
            "782/782 [==============================] - 9s 11ms/step - loss: 1.0462 - accuracy: 0.6327 - val_loss: 1.0339 - val_accuracy: 0.6396\n",
            "Epoch 13/25\n",
            "782/782 [==============================] - 8s 10ms/step - loss: 1.0226 - accuracy: 0.6417 - val_loss: 1.1729 - val_accuracy: 0.6029\n",
            "Epoch 14/25\n",
            "782/782 [==============================] - 8s 10ms/step - loss: 1.0124 - accuracy: 0.6450 - val_loss: 1.0538 - val_accuracy: 0.6370\n",
            "Epoch 15/25\n",
            "782/782 [==============================] - 8s 10ms/step - loss: 1.0050 - accuracy: 0.6487 - val_loss: 0.9631 - val_accuracy: 0.6651\n",
            "Epoch 16/25\n",
            "782/782 [==============================] - 8s 10ms/step - loss: 0.9905 - accuracy: 0.6514 - val_loss: 0.9795 - val_accuracy: 0.6570\n",
            "Epoch 17/25\n",
            "782/782 [==============================] - 8s 10ms/step - loss: 0.9729 - accuracy: 0.6579 - val_loss: 1.0523 - val_accuracy: 0.6377\n",
            "Epoch 18/25\n",
            "782/782 [==============================] - 8s 10ms/step - loss: 0.9717 - accuracy: 0.6593 - val_loss: 0.9807 - val_accuracy: 0.6578\n",
            "Epoch 19/25\n",
            "782/782 [==============================] - 8s 10ms/step - loss: 0.9629 - accuracy: 0.6638 - val_loss: 0.9388 - val_accuracy: 0.6688\n",
            "Epoch 20/25\n",
            "782/782 [==============================] - 8s 10ms/step - loss: 0.9489 - accuracy: 0.6689 - val_loss: 0.8782 - val_accuracy: 0.6973\n",
            "Epoch 21/25\n",
            "782/782 [==============================] - 8s 10ms/step - loss: 0.9442 - accuracy: 0.6718 - val_loss: 0.9205 - val_accuracy: 0.6795\n",
            "Epoch 22/25\n",
            "782/782 [==============================] - 9s 11ms/step - loss: 0.9380 - accuracy: 0.6709 - val_loss: 0.9382 - val_accuracy: 0.6698\n",
            "Epoch 23/25\n",
            "782/782 [==============================] - 8s 11ms/step - loss: 0.9296 - accuracy: 0.6745 - val_loss: 1.0513 - val_accuracy: 0.6383\n",
            "Epoch 24/25\n",
            "782/782 [==============================] - 8s 10ms/step - loss: 0.9256 - accuracy: 0.6765 - val_loss: 0.9313 - val_accuracy: 0.6778\n",
            "Epoch 25/25\n",
            "782/782 [==============================] - 9s 11ms/step - loss: 0.9171 - accuracy: 0.6807 - val_loss: 0.8884 - val_accuracy: 0.6918\n"
          ]
        },
        {
          "output_type": "execute_result",
          "data": {
            "text/plain": [
              "<keras.callbacks.History at 0x7fc055f2bb50>"
            ]
          },
          "metadata": {},
          "execution_count": 30
        }
      ],
      "source": [
        "model.fit(\n",
        "    x_train,\n",
        "    y_train,\n",
        "    batch_size=64,\n",
        "    epochs=25,\n",
        "    validation_data=(x_test,y_test)\n",
        ")"
      ]
    },
    {
      "cell_type": "code",
      "source": [
        "loss , acc = model.evaluate(x_test , y_test)\n",
        "print(f'Test accuracy : {acc:.2f} , Test loss : {loss:.2f}')"
      ],
      "metadata": {
        "id": "a9NxrisQalVO",
        "outputId": "a0b6e824-e2a4-40ca-e73e-482028b4b107",
        "colab": {
          "base_uri": "https://localhost:8080/"
        }
      },
      "execution_count": 31,
      "outputs": [
        {
          "output_type": "stream",
          "name": "stdout",
          "text": [
            "313/313 [==============================] - 2s 5ms/step - loss: 0.8884 - accuracy: 0.6918\n",
            "Test accuracy : 0.69 , Test loss : 0.89\n"
          ]
        }
      ]
    },
    {
      "cell_type": "markdown",
      "metadata": {
        "id": "XvIhuEfaPZBO"
      },
      "source": [
        "## ` Question 6 :`\n",
        "Change parameter or hyperparameter of this model in way to increase it accuracy\n"
      ]
    },
    {
      "cell_type": "code",
      "execution_count": 9,
      "metadata": {
        "id": "8JC2oHUePZBP",
        "outputId": "20a94085-eb92-4f19-d2e9-2cd33dd7324c",
        "colab": {
          "base_uri": "https://localhost:8080/"
        }
      },
      "outputs": [
        {
          "output_type": "stream",
          "name": "stdout",
          "text": [
            "Model: \"sequential\"\n",
            "_________________________________________________________________\n",
            " Layer (type)                Output Shape              Param #   \n",
            "=================================================================\n",
            " conv2d (Conv2D)             (None, 32, 32, 32)        896       \n",
            "                                                                 \n",
            " conv2d_1 (Conv2D)           (None, 32, 32, 32)        9248      \n",
            "                                                                 \n",
            " max_pooling2d (MaxPooling2D  (None, 16, 16, 32)       0         \n",
            " )                                                               \n",
            "                                                                 \n",
            " conv2d_2 (Conv2D)           (None, 16, 16, 64)        18496     \n",
            "                                                                 \n",
            " conv2d_3 (Conv2D)           (None, 16, 16, 64)        36928     \n",
            "                                                                 \n",
            " max_pooling2d_1 (MaxPooling  (None, 8, 8, 64)         0         \n",
            " 2D)                                                             \n",
            "                                                                 \n",
            " conv2d_4 (Conv2D)           (None, 8, 8, 128)         73856     \n",
            "                                                                 \n",
            " conv2d_5 (Conv2D)           (None, 8, 8, 128)         147584    \n",
            "                                                                 \n",
            " max_pooling2d_2 (MaxPooling  (None, 4, 4, 128)        0         \n",
            " 2D)                                                             \n",
            "                                                                 \n",
            " flatten (Flatten)           (None, 2048)              0         \n",
            "                                                                 \n",
            " dense (Dense)               (None, 128)               262272    \n",
            "                                                                 \n",
            " dropout (Dropout)           (None, 128)               0         \n",
            "                                                                 \n",
            " dense_1 (Dense)             (None, 10)                1290      \n",
            "                                                                 \n",
            "=================================================================\n",
            "Total params: 550,570\n",
            "Trainable params: 550,570\n",
            "Non-trainable params: 0\n",
            "_________________________________________________________________\n"
          ]
        }
      ],
      "source": [
        "model = Sequential()\n",
        "model.add(Conv2D(32 , (3,3) , activation='relu' , padding='same', input_shape=(32,32,3)))\n",
        "model.add(Conv2D(32 , (3,3) , activation='relu' , padding='same'))\n",
        "model.add(MaxPooling2D((2,2)))\n",
        "model.add(Conv2D(64 , (3,3) , activation='relu' , padding='same'))\n",
        "model.add(Conv2D(64 , (3,3) , activation='relu' , padding='same'))\n",
        "model.add(MaxPooling2D((2,2)))\n",
        "model.add(Conv2D(128 , (3,3) , activation='relu' , padding='same'))\n",
        "model.add(Conv2D(128 , (3,3) , activation='relu' , padding='same'))\n",
        "model.add(MaxPooling2D((2,2)))\n",
        "model.add(Flatten())\n",
        "model.add(Dense(128 , activation='relu'))\n",
        "model.add(Dropout(0.5))\n",
        "model.add(Dense(10 , activation='softmax'))\n",
        "\n",
        "model.summary()"
      ]
    },
    {
      "cell_type": "code",
      "source": [
        "opt_rms = keras.optimizers.RMSprop(learning_rate=0.001 , decay=1e-6)\n",
        "model.compile(optimizer=opt_rms , loss='categorical_crossentropy' , metrics=['accuracy'])"
      ],
      "metadata": {
        "id": "vUuwIb-qbcdm"
      },
      "execution_count": 10,
      "outputs": []
    },
    {
      "cell_type": "code",
      "source": [
        "model.fit(\n",
        "    x_train,\n",
        "    y_train,\n",
        "    batch_size=64,\n",
        "    epochs=30,\n",
        "    validation_data=(x_test,y_test)\n",
        ")"
      ],
      "metadata": {
        "id": "-tHVKbm9bo1X",
        "outputId": "bf680c0f-8f5f-467c-9e7a-126f297f45fd",
        "colab": {
          "base_uri": "https://localhost:8080/"
        }
      },
      "execution_count": 11,
      "outputs": [
        {
          "output_type": "stream",
          "name": "stdout",
          "text": [
            "Epoch 1/30\n",
            "782/782 [==============================] - 22s 23ms/step - loss: 1.7790 - accuracy: 0.3526 - val_loss: 1.7227 - val_accuracy: 0.4140\n",
            "Epoch 2/30\n",
            "782/782 [==============================] - 18s 23ms/step - loss: 1.2463 - accuracy: 0.5616 - val_loss: 1.2447 - val_accuracy: 0.5615\n",
            "Epoch 3/30\n",
            "782/782 [==============================] - 18s 23ms/step - loss: 0.9982 - accuracy: 0.6533 - val_loss: 0.9249 - val_accuracy: 0.6857\n",
            "Epoch 4/30\n",
            "782/782 [==============================] - 18s 23ms/step - loss: 0.8491 - accuracy: 0.7122 - val_loss: 0.9434 - val_accuracy: 0.6776\n",
            "Epoch 5/30\n",
            "782/782 [==============================] - 18s 23ms/step - loss: 0.7574 - accuracy: 0.7459 - val_loss: 0.9497 - val_accuracy: 0.6832\n",
            "Epoch 6/30\n",
            "782/782 [==============================] - 18s 22ms/step - loss: 0.6975 - accuracy: 0.7658 - val_loss: 0.9047 - val_accuracy: 0.7406\n",
            "Epoch 7/30\n",
            "782/782 [==============================] - 18s 23ms/step - loss: 0.6574 - accuracy: 0.7840 - val_loss: 1.2876 - val_accuracy: 0.6664\n",
            "Epoch 8/30\n",
            "782/782 [==============================] - 18s 23ms/step - loss: 0.6398 - accuracy: 0.7918 - val_loss: 0.7784 - val_accuracy: 0.7540\n",
            "Epoch 9/30\n",
            "782/782 [==============================] - 18s 22ms/step - loss: 0.6255 - accuracy: 0.8007 - val_loss: 1.1608 - val_accuracy: 0.6182\n",
            "Epoch 10/30\n",
            "782/782 [==============================] - 18s 23ms/step - loss: 0.6268 - accuracy: 0.7984 - val_loss: 1.1984 - val_accuracy: 0.7665\n",
            "Epoch 11/30\n",
            "782/782 [==============================] - 18s 23ms/step - loss: 0.6137 - accuracy: 0.8045 - val_loss: 0.9220 - val_accuracy: 0.7656\n",
            "Epoch 12/30\n",
            "782/782 [==============================] - 18s 23ms/step - loss: 0.6356 - accuracy: 0.8011 - val_loss: 0.9680 - val_accuracy: 0.6964\n",
            "Epoch 13/30\n",
            "782/782 [==============================] - 18s 23ms/step - loss: 0.6455 - accuracy: 0.7976 - val_loss: 1.3012 - val_accuracy: 0.7410\n",
            "Epoch 14/30\n",
            "782/782 [==============================] - 18s 23ms/step - loss: 0.6732 - accuracy: 0.7912 - val_loss: 1.2061 - val_accuracy: 0.7224\n",
            "Epoch 15/30\n",
            "782/782 [==============================] - 18s 23ms/step - loss: 0.6860 - accuracy: 0.7886 - val_loss: 1.7513 - val_accuracy: 0.6735\n",
            "Epoch 16/30\n",
            "782/782 [==============================] - 18s 23ms/step - loss: 0.6852 - accuracy: 0.7884 - val_loss: 0.7717 - val_accuracy: 0.7545\n",
            "Epoch 17/30\n",
            "782/782 [==============================] - 18s 23ms/step - loss: 0.6984 - accuracy: 0.7855 - val_loss: 1.2178 - val_accuracy: 0.6651\n",
            "Epoch 18/30\n",
            "782/782 [==============================] - 18s 23ms/step - loss: 0.7174 - accuracy: 0.7786 - val_loss: 1.0905 - val_accuracy: 0.7467\n",
            "Epoch 19/30\n",
            "782/782 [==============================] - 18s 23ms/step - loss: 0.7399 - accuracy: 0.7705 - val_loss: 1.4139 - val_accuracy: 0.7107\n",
            "Epoch 20/30\n",
            "782/782 [==============================] - 18s 23ms/step - loss: 0.7807 - accuracy: 0.7613 - val_loss: 0.8549 - val_accuracy: 0.7064\n",
            "Epoch 21/30\n",
            "782/782 [==============================] - 18s 23ms/step - loss: 0.8146 - accuracy: 0.7552 - val_loss: 1.5672 - val_accuracy: 0.6943\n",
            "Epoch 22/30\n",
            "782/782 [==============================] - 18s 22ms/step - loss: 0.8283 - accuracy: 0.7473 - val_loss: 1.5187 - val_accuracy: 0.5922\n",
            "Epoch 23/30\n",
            "782/782 [==============================] - 18s 23ms/step - loss: 0.8320 - accuracy: 0.7454 - val_loss: 1.3886 - val_accuracy: 0.6692\n",
            "Epoch 24/30\n",
            "782/782 [==============================] - 18s 23ms/step - loss: 0.8736 - accuracy: 0.7327 - val_loss: 0.8679 - val_accuracy: 0.7264\n",
            "Epoch 25/30\n",
            "782/782 [==============================] - 18s 23ms/step - loss: 0.8958 - accuracy: 0.7253 - val_loss: 0.9802 - val_accuracy: 0.6869\n",
            "Epoch 26/30\n",
            "782/782 [==============================] - 18s 23ms/step - loss: 0.9488 - accuracy: 0.7086 - val_loss: 1.0788 - val_accuracy: 0.7321\n",
            "Epoch 27/30\n",
            "782/782 [==============================] - 18s 23ms/step - loss: 0.9848 - accuracy: 0.7009 - val_loss: 1.0415 - val_accuracy: 0.6639\n",
            "Epoch 28/30\n",
            "782/782 [==============================] - 18s 23ms/step - loss: 0.9909 - accuracy: 0.6958 - val_loss: 1.3033 - val_accuracy: 0.6647\n",
            "Epoch 29/30\n",
            "782/782 [==============================] - 18s 23ms/step - loss: 1.0315 - accuracy: 0.6828 - val_loss: 1.1810 - val_accuracy: 0.6573\n",
            "Epoch 30/30\n",
            "782/782 [==============================] - 18s 23ms/step - loss: 1.0413 - accuracy: 0.6771 - val_loss: 0.9566 - val_accuracy: 0.7043\n"
          ]
        },
        {
          "output_type": "execute_result",
          "data": {
            "text/plain": [
              "<keras.callbacks.History at 0x7fac30678890>"
            ]
          },
          "metadata": {},
          "execution_count": 11
        }
      ]
    },
    {
      "cell_type": "code",
      "source": [
        "loss , acc = model.evaluate(x_test , y_test)\n",
        "print(f'Test accuracy : {acc:.2f} , Test loss : {loss:.2f}')"
      ],
      "metadata": {
        "id": "D4g3C0q9buw0",
        "outputId": "de1695d4-6198-438b-d777-f935210f3ad8",
        "colab": {
          "base_uri": "https://localhost:8080/"
        }
      },
      "execution_count": 12,
      "outputs": [
        {
          "output_type": "stream",
          "name": "stdout",
          "text": [
            "313/313 [==============================] - 3s 8ms/step - loss: 0.9566 - accuracy: 0.7043\n",
            "Test accuracy : 0.70 , Test loss : 0.96\n"
          ]
        }
      ]
    }
  ],
  "metadata": {
    "kernelspec": {
      "display_name": "tensorflow",
      "language": "python",
      "name": "tensorflow"
    },
    "language_info": {
      "codemirror_mode": {
        "name": "ipython",
        "version": 3
      },
      "file_extension": ".py",
      "mimetype": "text/x-python",
      "name": "python",
      "nbconvert_exporter": "python",
      "pygments_lexer": "ipython3",
      "version": "3.6.8"
    },
    "colab": {
      "name": "ex2-conv-cifar10-in-colab.ipynb",
      "provenance": [],
      "include_colab_link": true
    },
    "accelerator": "GPU"
  },
  "nbformat": 4,
  "nbformat_minor": 0
}